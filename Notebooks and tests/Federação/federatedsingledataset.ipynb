{
  "cells": [
    {
      "cell_type": "code",
      "execution_count": null,
      "metadata": {
        "id": "tCSxCm1rTLh2"
      },
      "outputs": [],
      "source": [
        "!pip install -q flwr[simulation] flwr-datasets[vision] torch torchvision matplotlib"
      ]
    },
    {
      "cell_type": "code",
      "execution_count": null,
      "metadata": {
        "colab": {
          "base_uri": "https://localhost:8080/"
        },
        "id": "IPV8xsBqI5mj",
        "outputId": "30c3de80-36b9-4365-e514-8f2132175805"
      },
      "outputs": [
        {
          "output_type": "stream",
          "name": "stdout",
          "text": [
            "Drive already mounted at /content/drive; to attempt to forcibly remount, call drive.mount(\"/content/drive\", force_remount=True).\n"
          ]
        }
      ],
      "source": [
        "from google.colab import drive\n",
        "drive.mount('/content/drive')\n",
        "\n",
        "import pandas as pd\n",
        "import torch\n",
        "from torch import nn\n",
        "from torch import optim\n",
        "import os\n",
        "import numpy as np\n"
      ]
    },
    {
      "cell_type": "code",
      "execution_count": null,
      "metadata": {
        "id": "A9IN2PtjoKXC",
        "colab": {
          "base_uri": "https://localhost:8080/"
        },
        "outputId": "cb24ffe6-5cf2-4077-ffe1-d3880939a38e"
      },
      "outputs": [
        {
          "output_type": "stream",
          "name": "stdout",
          "text": [
            "Training on cpu\n",
            "Flower 1.15.2 / PyTorch 2.5.1+cu124\n"
          ]
        }
      ],
      "source": [
        "from collections import OrderedDict\n",
        "from typing import List, Tuple\n",
        "\n",
        "import matplotlib.pyplot as plt\n",
        "import numpy as np\n",
        "import torch\n",
        "import torch.nn as nn\n",
        "import torch.nn.functional as F\n",
        "import torchvision.transforms as transforms\n",
        "from datasets.utils.logging import disable_progress_bar\n",
        "from torch.utils.data import TensorDataset, DataLoader, Subset\n",
        "\n",
        "import flwr\n",
        "from flwr.client import Client, ClientApp, NumPyClient\n",
        "from flwr.common import Metrics, Context\n",
        "from flwr.server import ServerApp, ServerConfig, ServerAppComponents\n",
        "from flwr.server.strategy import FedAvg\n",
        "from flwr.simulation import run_simulation\n",
        "from flwr_datasets import FederatedDataset\n",
        "\n",
        "DEVICE = torch.device(\"cpu\")  # Try \"cuda\" to train on GPU\n",
        "print(f\"Training on {DEVICE}\")\n",
        "print(f\"Flower {flwr.__version__} / PyTorch {torch.__version__}\")\n",
        "disable_progress_bar()"
      ]
    },
    {
      "cell_type": "code",
      "execution_count": null,
      "metadata": {
        "id": "7WpEAaN-JG5g"
      },
      "outputs": [],
      "source": [
        "from sklearn.model_selection import train_test_split\n",
        "from torch.utils.data import DataLoader, TensorDataset\n",
        "from sklearn.preprocessing import StandardScaler\n",
        "\n",
        "device = torch.device('cuda' if torch.cuda.is_available() else 'cpu')\n",
        "def carregar_dadosv2(train_data, test_data, test_size=0.2, random_state=42):\n",
        "    # Load data from CSV file\n",
        "    scaler = StandardScaler()\n",
        "\n",
        "    train_data = pd.read_csv(train_data)\n",
        "    val_data = pd.read_csv(test_data)\n",
        "\n",
        "    # Split data into features (X) and targets (y) (\"hysteresis\")\n",
        "    X = train_data.drop(['hysteresis', 'joule'], axis=1)\n",
        "    y = train_data[['hysteresis', 'joule']]\n",
        "\n",
        "    # Perform train-test split\n",
        "    X_train, X_val, y_train, y_val = train_test_split(X, y, test_size=test_size, random_state=random_state)\n",
        "\n",
        "    X_test = val_data.drop(['hysteresis', 'joule'], axis=1)\n",
        "    y_test = val_data[['hysteresis', 'joule']]\n",
        "\n",
        "    X_train = scaler.fit_transform(X_train.values)\n",
        "    X_val = scaler.transform(X_val.values)\n",
        "    X_test = scaler.transform(X_test.values)\n",
        "\n",
        "    X_train_tensor = torch.tensor(X_train, dtype=torch.float32)\n",
        "    y_train_tensor = torch.tensor(y_train.values, dtype=torch.float32)\n",
        "    X_val_tensor = torch.tensor(X_val, dtype=torch.float32)\n",
        "    y_val_tensor = torch.tensor(y_val.values, dtype=torch.float32)\n",
        "    X_test_tensor = torch.tensor(X_test, dtype=torch.float32)\n",
        "    y_test_tensor = torch.tensor(y_test.values, dtype=torch.float32)\n",
        "\n",
        "\n",
        "    return X_train_tensor, y_train_tensor, X_val_tensor, y_val_tensor, X_test_tensor, y_test_tensor"
      ]
    },
    {
      "cell_type": "code",
      "execution_count": null,
      "metadata": {
        "id": "DfoukrnHJJq_"
      },
      "outputs": [],
      "source": [
        "import matplotlib.pyplot as plt\n",
        "import torch\n",
        "\n",
        "def plot_comparacao(y_true, y_pred):\n",
        "    # Converta para numpy se estiverem em tensores\n",
        "    if torch.is_tensor(y_true):\n",
        "        y_true = y_true.cpu().numpy()\n",
        "    if torch.is_tensor(y_pred):\n",
        "        y_pred = y_pred.cpu().numpy()\n",
        "\n",
        "    # Calcular métricas de avaliação\n",
        "    mae = mean_absolute_error(y_true, y_pred)\n",
        "    mse = mean_squared_error(y_true, y_pred)\n",
        "    rmse = np.sqrt(mse)\n",
        "\n",
        "    # Plotar a comparação\n",
        "    plt.figure(figsize=(10, 8))\n",
        "    plt.scatter(y_true, y_pred, color='blue', alpha=0.5, s=50, label='Previsões')\n",
        "\n",
        "    # Linha de referência (Y = X)\n",
        "    min_val = min(y_true.min(), y_pred.min())\n",
        "    max_val = max(y_true.max(), y_pred.max())\n",
        "    plt.plot([min_val, max_val], [min_val, max_val], color='red', linestyle='--', linewidth=2, label='Linha de Referência')\n",
        "\n",
        "    # Adicionar título e legendas\n",
        "    plt.xlabel('Valores Reais', fontsize=12)\n",
        "    plt.ylabel('Valores Previstos', fontsize=12)\n",
        "    plt.title('Comparação entre Valores Reais e Previstos', fontsize=14)\n",
        "    plt.legend()\n",
        "\n",
        "    # Exibir métricas no gráfico\n",
        "    plt.text(min_val, max_val * 0.95, f'MAE: {mae:.4f}', fontsize=12, color='green')\n",
        "    plt.text(min_val, max_val * 0.90, f'MSE: {mse:.4f}', fontsize=12, color='green')\n",
        "    plt.text(min_val, max_val * 0.85, f'RMSE: {rmse:.4f}', fontsize=12, color='green')\n",
        "\n",
        "    # Adicionar uma grade\n",
        "    plt.grid(True, linestyle='--', alpha=0.7)\n",
        "\n",
        "    # Exibir o gráfico\n",
        "    plt.show()\n"
      ]
    },
    {
      "cell_type": "code",
      "execution_count": null,
      "metadata": {
        "id": "lFzY-Yw2JKel"
      },
      "outputs": [],
      "source": [
        "class Net(nn.Module):\n",
        "    def __init__(self, input_dim, output_dim, num_layers, hidden_dim):\n",
        "        super(Net, self).__init__()\n",
        "        layers = []\n",
        "\n",
        "        # Construindo as camadas com base no número de camadas\n",
        "        for i in range(num_layers):\n",
        "            layers.append(nn.Linear(input_dim if i == 0 else hidden_dim, hidden_dim))\n",
        "            layers.append(nn.ReLU())\n",
        "\n",
        "        # Guardar o índice da penúltima camada\n",
        "        self.penultimate_layer_index = len(layers) - 2\n",
        "\n",
        "        # Adicionar a camada final de saída\n",
        "        layers.append(nn.Linear(hidden_dim, output_dim))\n",
        "\n",
        "        # Definir a sequência de camadas como parte da rede\n",
        "        self.network = nn.Sequential(*layers)\n",
        "\n",
        "    def forward(self, x):\n",
        "        penultimate_output = None\n",
        "\n",
        "        # Executar o forward manualmente para capturar a penúltima camada\n",
        "        for i, layer in enumerate(self.network):\n",
        "            x = layer(x)\n",
        "            if i == self.penultimate_layer_index:\n",
        "                penultimate_output = x  # Armazenar a saída da penúltima camada\n",
        "\n",
        "        # Retornar a saída final e a penúltima camada\n",
        "        return x, penultimate_output"
      ]
    },
    {
      "cell_type": "code",
      "execution_count": null,
      "metadata": {
        "id": "rUsqPNWdS9mC"
      },
      "outputs": [],
      "source": []
    },
    {
      "cell_type": "code",
      "execution_count": null,
      "metadata": {
        "id": "8MeRMPIUJWaP"
      },
      "outputs": [],
      "source": [
        "from torch import tensor\n",
        "\n",
        "from sklearn.metrics import mean_squared_error, mean_absolute_error\n",
        "from torch.optim.lr_scheduler import ReduceLROnPlateau\n",
        "\n",
        "\n",
        "def load_model(filename, model_class, input_size, output_size):\n",
        "    print(\"Carregando modelo...\")\n",
        "    checkpoint = torch.load(filename)\n",
        "\n",
        "    model = model_class(input_size, output_size)\n",
        "\n",
        "    model.load_state_dict(checkpoint['state_dict'])\n",
        "\n",
        "    optimizer = optim.Adam(model.parameters(), lr=0.001)\n",
        "\n",
        "    optimizer.load_state_dict(checkpoint['optimizer'])\n",
        "\n",
        "    return model, optimizer\n",
        "\n",
        "def train(model, num_epochs, optimizer, train_loader, val_loader):\n",
        "    model = model.to(device)\n",
        "    criterion = nn.L1Loss().to(device)  # Loss function\n",
        "\n",
        "    for epoch in range(num_epochs):\n",
        "        model.train()  # Set the model to training mode\n",
        "        running_loss = 0.0  # Track training loss\n",
        "\n",
        "        for train_set, target in train_loader:\n",
        "            # Move the inputs and targets to the appropriate device\n",
        "            train_set = train_set.to(device)\n",
        "            target = target.to(device)\n",
        "\n",
        "            optimizer.zero_grad()  # Clear gradients\n",
        "\n",
        "            # Forward pass\n",
        "            outputs, _ = model(train_set)\n",
        "            loss = criterion(outputs, target)\n",
        "\n",
        "            # Backward pass and optimization\n",
        "            loss.backward()\n",
        "            optimizer.step()\n",
        "\n",
        "            running_loss += loss.item()\n",
        "\n",
        "        if (epoch + 1) % 100 == 0:\n",
        "            avg_train_loss = running_loss / len(train_loader)\n",
        "            print(f'Epoch [{epoch+1}/{num_epochs}], Loss: {avg_train_loss:.4f}')\n",
        "\n",
        "        model.eval()\n",
        "        val_loss = 0.0\n",
        "\n",
        "        with torch.no_grad():\n",
        "            for val_set, val_target in val_loader:\n",
        "                val_set = val_set.to(device)\n",
        "                val_target = val_target.to(device)\n",
        "\n",
        "                val_outputs, _ = model(val_set)\n",
        "                loss = criterion(val_outputs, val_target)\n",
        "                val_loss += loss.item()\n",
        "\n",
        "            if (epoch + 1) % 100 == 0:\n",
        "                avg_val_loss = val_loss / len(val_loader)\n",
        "                print(f'Epoch [{epoch+1}/{num_epochs}], Val_Loss: {avg_val_loss:.4f}')\n",
        "\n",
        "def save_model(state,filename=\"Saved_Model.pth\"):\n",
        "  print(\"salvando modelo...\")\n",
        "  torch.save(state,filename)\n",
        "\n",
        "\n",
        "\n",
        "def test(net, testloader):\n",
        "    \"\"\"Evaluate the network on the entire test set for a regression problem.\"\"\"\n",
        "    criterion = torch.nn.MSELoss()  # Use MSE as the loss\n",
        "    total_loss, total_mse = 0.0, 0.0\n",
        "    net.eval()\n",
        "\n",
        "    with torch.no_grad():\n",
        "        for batch in testloader:\n",
        "            images, targets = batch[0].to(DEVICE), batch[1].to(DEVICE)\n",
        "            outputs , _ = net(images)\n",
        "\n",
        "            # Calculate the loss (MSE)\n",
        "            loss = criterion(outputs, targets)\n",
        "            total_loss += loss.item()\n",
        "\n",
        "            # Calculate the MSE for accuracy\n",
        "            mse = torch.mean((outputs - targets) ** 2)\n",
        "            total_mse += mse.item()\n",
        "\n",
        "    avg_loss = total_loss / len(testloader.dataset)\n",
        "    avg_mse = total_mse / len(testloader)  # Average per batch for mse\n",
        "\n",
        "    return avg_loss, avg_mse"
      ]
    },
    {
      "cell_type": "code",
      "execution_count": null,
      "metadata": {
        "id": "nXfKy6t6Jrgj"
      },
      "outputs": [],
      "source": [
        "def change_dataset(folder_path):\n",
        "    folder_path = folder_path\n",
        "    os.chdir(folder_path)\n",
        "\n",
        "    X_train_tensor, y_train_tensor, X_val_tensor, y_val_tensor, X_test_tensor, y_test_tensor = carregar_dadosv2('dados_de_treino.csv','dados_de_teste.csv')\n",
        "\n",
        "    X_train_tensor = X_train_tensor.to(device)\n",
        "    y_train_tensor = y_train_tensor.to(device)\n",
        "    X_val_tensor = X_val_tensor.to(device)\n",
        "    y_val_tensor = y_val_tensor.to(device)\n",
        "    X_test_tensor = X_test_tensor.to(device)\n",
        "    y_test_tensor = y_test_tensor.to(device)\n",
        "\n",
        "    histeresis_train_tensor = [pair[0].item() for pair in y_train_tensor]\n",
        "    histeresis_train_tensor = torch.tensor(histeresis_train_tensor, dtype=torch.float32).to(device)\n",
        "    histeresis_train_tensor = histeresis_train_tensor.unsqueeze(1)\n",
        "\n",
        "    joule_train_tensor = [pair[1].item() for pair in y_train_tensor]\n",
        "    joule_train_tensor = torch.tensor(joule_train_tensor, dtype=torch.float32).to(device)\n",
        "    joule_train_tensor = joule_train_tensor.unsqueeze(1)\n",
        "\n",
        "    histeresis_val_tensor = [pair[0].item() for pair in y_val_tensor]\n",
        "    histeresis_val_tensor = torch.tensor(histeresis_val_tensor, dtype=torch.float32).to(device)\n",
        "    histeresis_val_tensor = histeresis_val_tensor.unsqueeze(1)\n",
        "\n",
        "    joule_val_tensor = [pair[1].item() for pair in y_val_tensor]\n",
        "    joule_val_tensor = torch.tensor(joule_val_tensor, dtype=torch.float32).to(device)\n",
        "    joule_val_tensor = joule_val_tensor.unsqueeze(1)\n",
        "\n",
        "    histeresis_test_tensor = [pair[0].item() for pair in y_test_tensor]\n",
        "    histeresis_test_tensor = torch.tensor(histeresis_test_tensor, dtype=torch.float32).to(device)\n",
        "    histeresis_test_tensor = histeresis_test_tensor.unsqueeze(1)\n",
        "\n",
        "    joule_test_tensor = [pair[1].item() for pair in y_test_tensor]\n",
        "    joule_test_tensor = torch.tensor(joule_test_tensor, dtype=torch.float32).to(device)\n",
        "    joule_test_tensor = joule_test_tensor.unsqueeze(1)\n",
        "\n",
        "    return X_train_tensor, y_train_tensor, X_val_tensor, y_val_tensor, X_test_tensor, y_test_tensor, histeresis_train_tensor, joule_train_tensor, histeresis_val_tensor, joule_val_tensor, histeresis_test_tensor, joule_test_tensor"
      ]
    },
    {
      "cell_type": "code",
      "execution_count": null,
      "metadata": {
        "id": "nVsIcbKsSXB7"
      },
      "outputs": [],
      "source": [
        "X_train_tensorn, y_train_tensorn, X_val_tensorn, y_val_tensorn, X_test_tensorn, y_test_tensorn, histeresis_train_tensorn, joule_train_tensorn, histeresis_val_tensorn, joule_val_tensorn, histeresis_test_tensorn, joule_test_tensorn = change_dataset('/content/drive/MyDrive/FederatedLearning-main/Data/IPMSM_datasets/dataset_for_iron_losses_of_IPMSMs/Nabla')\n",
        "X_train_tensor2d, y_train_tensor2d, X_val_tensor2d, y_val_tensor2d, X_test_tensor2d, y_test_tensor2d, histeresis_train_tensor2d, joule_train_tensor2d, histeresis_val_tensor2d, joule_val_tensor2d, histeresis_test_tensor2d, joule_test_tensor2d = change_dataset('/content/drive/MyDrive/FederatedLearning-main/Data/IPMSM_datasets/dataset_for_iron_losses_of_IPMSMs/2D')\n",
        "X_train_tensorv, y_train_tensorv, X_val_tensorv, y_val_tensorv, X_test_tensorv, y_test_tensorv, histeresis_train_tensorv, joule_train_tensorv, histeresis_val_tensorv, joule_val_tensorv, histeresis_test_tensorv, joule_test_tensorv = change_dataset('/content/drive/MyDrive/FederatedLearning-main/Data/IPMSM_datasets/dataset_for_iron_losses_of_IPMSMs/V')"
      ]
    },
    {
      "cell_type": "code",
      "execution_count": null,
      "metadata": {
        "id": "gTx-dFSDYg-r"
      },
      "outputs": [],
      "source": [
        "NUM_CLIENTS = 10\n",
        "BATCH_SIZE = 512\n",
        "\n",
        "def split_tensor_dataset(tensor_data):\n",
        "    subset_size = len(tensor_data) // NUM_CLIENTS\n",
        "    indices = np.random.permutation(len(tensor_data))\n",
        "    subsets = []\n",
        "    for i in range(NUM_CLIENTS):\n",
        "        start = i * subset_size\n",
        "        end = (i + 1) * subset_size if i != NUM_CLIENTS - 1 else len(tensor_data)\n",
        "        subset_indices = indices[start:end]\n",
        "        subsets.append(Subset(tensor_data, subset_indices))\n",
        "    return subsets\n",
        "\n",
        "def load_datasets(partition_id: int):\n",
        "    # Converte tensores para TensorDatasets\n",
        "\n",
        "    train_dataset = TensorDataset(X_train_tensorv, histeresis_train_tensorv)\n",
        "    val_dataset = TensorDataset(X_val_tensorv, histeresis_val_tensorv)\n",
        "    test_dataset = TensorDataset(X_test_tensorv, histeresis_test_tensorv)\n",
        "\n",
        "    # Divide o dataset entre os clientes\n",
        "    train_subsets = split_tensor_dataset(train_dataset)\n",
        "    val_subsets = split_tensor_dataset(val_dataset)\n",
        "\n",
        "    # Retorna o DataLoader específico para o cliente com base no partition_id\n",
        "    train_loader = DataLoader(train_subsets[partition_id], batch_size=32, shuffle=True)\n",
        "    val_loader = DataLoader(val_subsets[partition_id], batch_size=32, shuffle=False)\n",
        "    test_loader = DataLoader(test_dataset, batch_size=BATCH_SIZE, shuffle=False)\n",
        "\n",
        "    return train_loader, val_loader, test_loader"
      ]
    },
    {
      "cell_type": "code",
      "source": [],
      "metadata": {
        "id": "gzBUsBW-MFCV"
      },
      "execution_count": null,
      "outputs": []
    },
    {
      "cell_type": "code",
      "execution_count": null,
      "metadata": {
        "id": "1Ge5CIp6cI5a"
      },
      "outputs": [],
      "source": [
        "def set_parameters(net, parameters: List[np.ndarray]):\n",
        "    params_dict = zip(net.state_dict().keys(), parameters)\n",
        "    state_dict = OrderedDict({k: torch.Tensor(v) for k, v in params_dict})\n",
        "    net.load_state_dict(state_dict, strict=True)\n",
        "\n",
        "\n",
        "def get_parameters(net) -> List[np.ndarray]:\n",
        "    return [val.cpu().numpy() for _, val in net.state_dict().items()]"
      ]
    },
    {
      "cell_type": "code",
      "execution_count": null,
      "metadata": {
        "id": "ZADnhuejZUXD"
      },
      "outputs": [],
      "source": [
        "class FlowerClient(NumPyClient):\n",
        "    def __init__(self, net, trainloader, valloader):\n",
        "        self.net = net\n",
        "        self.trainloader = trainloader\n",
        "        self.valloader = valloader\n",
        "\n",
        "    def get_parameters(self, config):\n",
        "        return get_parameters(self.net)\n",
        "\n",
        "\n",
        "    def fit(self, parameters, config):\n",
        "        set_parameters(self.net, parameters)\n",
        "        train(self.net, 10, optim.Adam(self.net.parameters()),self.trainloader,self.valloader)\n",
        "        return get_parameters(self.net), len(self.trainloader), {}\n",
        "\n",
        "    def evaluate(self, parameters, config):\n",
        "        set_parameters(self.net, parameters)\n",
        "        loss, accuracy = test(self.net, self.valloader)\n",
        "        return float(loss), len(self.valloader), {\"accuracy\": float(accuracy)}"
      ]
    },
    {
      "cell_type": "code",
      "execution_count": null,
      "metadata": {
        "collapsed": true,
        "id": "1_6xfOq1S-bp"
      },
      "outputs": [],
      "source": [
        "def client_fn(context: Context) -> Client:\n",
        "    \"\"\"Create a Flower client representing a single organization.\"\"\"\n",
        "\n",
        "    # Load model\n",
        "    net = Net(14, 1, 16, 40).to(DEVICE)\n",
        "\n",
        "    # Get data partition ID from node_config\n",
        "    partition_id = context.node_config[\"partition-id\"]\n",
        "\n",
        "    # Ensure the dataset loading function supports partition_id, or adjust it accordingly\n",
        "    try:\n",
        "        trainloader, valloader, _ = load_datasets(partition_id=partition_id)\n",
        "    except TypeError:\n",
        "        print(f\"load_datasets() does not support partition_id, modifying call.\")\n",
        "        trainloader, valloader, _ = load_datasets()  # Adjust to match your actual function signature\n",
        "\n",
        "    # Create a Flower client representing the organization\n",
        "    return FlowerClient(net, trainloader, valloader).to_client()\n",
        "\n",
        "# Create the ClientApp\n",
        "client = ClientApp(client_fn=client_fn)"
      ]
    },
    {
      "cell_type": "code",
      "execution_count": null,
      "metadata": {
        "id": "ocS2lejxsa1X"
      },
      "outputs": [],
      "source": [
        "# Specify the resources each of your clients need\n",
        "# By default, each client will be allocated 1x CPU and 0x GPUs\n",
        "backend_config = {\"client_resources\": {\"num_cpus\": 1, \"num_gpus\": 0.0}}\n",
        "\n",
        "# When running on GPU, assign an entire GPU for each client\n",
        "if DEVICE.type == \"cuda\":\n",
        "    backend_config = {\"client_resources\": {\"num_cpus\": 1, \"num_gpus\": 1.0}}\n",
        "    # Refer to our Flower framework documentation for more details about Flower simulations\n",
        "    # and how to set up the `backend_config`"
      ]
    },
    {
      "cell_type": "code",
      "execution_count": null,
      "metadata": {
        "id": "4sYkolcNsgqe"
      },
      "outputs": [],
      "source": [
        "def weighted_average(metrics: List[Tuple[int, Metrics]]) -> Metrics:\n",
        "    # Multiply accuracy of each client by number of examples used\n",
        "    accuracies = [num_examples * m[\"accuracy\"] for num_examples, m in metrics]\n",
        "    examples = [num_examples for num_examples, _ in metrics]\n",
        "\n",
        "    # Aggregate and return custom metric (weighted average)\n",
        "    return {\"accuracy\": sum(accuracies) / sum(examples)}"
      ]
    },
    {
      "cell_type": "code",
      "execution_count": null,
      "metadata": {
        "id": "KS66sRy4blKX"
      },
      "outputs": [],
      "source": [
        "from typing import Dict, Tuple, Optional\n",
        "from sklearn.metrics import mean_squared_error, mean_absolute_error\n",
        "def evaluate(server_round: int, parameters: flwr.common.NDArrays, config: Dict[str, float]) -> Optional[Tuple[float, Dict[str, float]]]:\n",
        "    device = torch.device(\"cuda\" if torch.cuda.is_available() else \"cpu\")\n",
        "\n",
        "    # Criar o modelo e transferi-lo para o dispositivo\n",
        "    net = Net(14, 1, 16, 40).to(DEVICE)\n",
        "\n",
        "    # Carregar o DataLoader para os dados de teste\n",
        "    _, _, testloader = load_datasets(0)  # Ajuste conforme seu código para carregar dados\n",
        "\n",
        "    # Atualizar o modelo com os parâmetros mais recentes\n",
        "    set_parameters(net, parameters)\n",
        "\n",
        "    # Inicializar listas para armazenar previsões e rótulos\n",
        "    all_preds = []\n",
        "    all_labels = []\n",
        "\n",
        "    net.eval()  # Colocar o modelo em modo de avaliação\n",
        "    with torch.no_grad():\n",
        "        for inputs, labels in testloader:\n",
        "            inputs, labels = inputs.to(device), labels.to(device)\n",
        "            outputs,_ = net(inputs)\n",
        "            all_preds.append(outputs.cpu().numpy())  # Armazena as previsões\n",
        "            all_labels.append(labels.cpu().numpy())  # Armazena os valores reais\n",
        "\n",
        "    # Concatena as previsões e labels em um único array\n",
        "    all_preds = np.concatenate(all_preds, axis=0)\n",
        "    all_labels = np.concatenate(all_labels, axis=0)\n",
        "\n",
        "    # Cálculo das métricas\n",
        "    mse = mean_squared_error(all_labels, all_preds)\n",
        "    mae = mean_absolute_error(all_labels, all_preds)\n",
        "    mape = np.mean(np.abs((all_labels - all_preds) / all_labels)) * 100\n",
        "\n",
        "    # Exibe os resultados\n",
        "    print(f\"Round {server_round} - MSE: {mse:.4f}, MAE: {mae:.4f}, MAPE: {mape:.2f}%\")\n",
        "\n",
        "    return mse, {\"MAE\": mae, \"MAPE\": mape}  # Retornando MSE e um dicionário com MAE e MAPE"
      ]
    },
    {
      "cell_type": "code",
      "execution_count": null,
      "metadata": {
        "colab": {
          "base_uri": "https://localhost:8080/"
        },
        "id": "W5ky9K-0siSa",
        "outputId": "a267cda2-779f-45f3-a94a-62314028ae85"
      },
      "outputs": [
        {
          "output_type": "stream",
          "name": "stderr",
          "text": [
            "\u001b[92mINFO \u001b[0m:      Starting Flower ServerApp, config: num_rounds=50, no round_timeout\n",
            "\u001b[92mINFO \u001b[0m:      \n",
            "\u001b[92mINFO \u001b[0m:      [INIT]\n",
            "\u001b[92mINFO \u001b[0m:      Requesting initial parameters from one random client\n",
            "\u001b[36m(pid=14444)\u001b[0m 2025-03-06 17:39:05.376118: E external/local_xla/xla/stream_executor/cuda/cuda_fft.cc:477] Unable to register cuFFT factory: Attempting to register factory for plugin cuFFT when one has already been registered\n",
            "\u001b[36m(pid=14445)\u001b[0m WARNING: All log messages before absl::InitializeLog() is called are written to STDERR\n",
            "\u001b[36m(pid=14445)\u001b[0m E0000 00:00:1741282745.666210   14445 cuda_dnn.cc:8310] Unable to register cuDNN factory: Attempting to register factory for plugin cuDNN when one has already been registered\n",
            "\u001b[36m(pid=14445)\u001b[0m E0000 00:00:1741282745.818576   14445 cuda_blas.cc:1418] Unable to register cuBLAS factory: Attempting to register factory for plugin cuBLAS when one has already been registered\n",
            "\u001b[92mINFO \u001b[0m:      Received initial parameters from one random client\n",
            "\u001b[92mINFO \u001b[0m:      Starting evaluation of initial global parameters\n",
            "\u001b[92mINFO \u001b[0m:      initial parameters (loss, other metrics): 1.0158711671829224, {'MAE': 0.8426019549369812, 'MAPE': 108.57217311859131}\n",
            "\u001b[92mINFO \u001b[0m:      \n",
            "\u001b[92mINFO \u001b[0m:      [ROUND 1]\n",
            "\u001b[92mINFO \u001b[0m:      configure_fit: strategy sampled 10 clients (out of 10)\n"
          ]
        },
        {
          "output_type": "stream",
          "name": "stdout",
          "text": [
            "Round 0 - MSE: 1.0159, MAE: 0.8426, MAPE: 108.57%\n"
          ]
        },
        {
          "output_type": "stream",
          "name": "stderr",
          "text": [
            "\u001b[92mINFO \u001b[0m:      aggregate_fit: received 10 results and 0 failures\n",
            "\u001b[93mWARNING \u001b[0m:   No fit_metrics_aggregation_fn provided\n",
            "\u001b[92mINFO \u001b[0m:      fit progress: (1, 0.29173532128334045, {'MAE': 0.368645042181015, 'MAPE': 111.04252338409424}, 28.762029156000153)\n",
            "\u001b[92mINFO \u001b[0m:      configure_evaluate: strategy sampled 5 clients (out of 10)\n"
          ]
        },
        {
          "output_type": "stream",
          "name": "stdout",
          "text": [
            "Round 1 - MSE: 0.2917, MAE: 0.3686, MAPE: 111.04%\n"
          ]
        },
        {
          "output_type": "stream",
          "name": "stderr",
          "text": [
            "\u001b[92mINFO \u001b[0m:      aggregate_evaluate: received 5 results and 0 failures\n",
            "\u001b[92mINFO \u001b[0m:      \n",
            "\u001b[92mINFO \u001b[0m:      [ROUND 2]\n",
            "\u001b[92mINFO \u001b[0m:      configure_fit: strategy sampled 10 clients (out of 10)\n",
            "\u001b[92mINFO \u001b[0m:      aggregate_fit: received 10 results and 0 failures\n",
            "\u001b[92mINFO \u001b[0m:      fit progress: (2, 0.006222297437489033, {'MAE': 0.056147415190935135, 'MAPE': 42.26296544075012}, 55.614614040000106)\n",
            "\u001b[92mINFO \u001b[0m:      configure_evaluate: strategy sampled 5 clients (out of 10)\n"
          ]
        },
        {
          "output_type": "stream",
          "name": "stdout",
          "text": [
            "Round 2 - MSE: 0.0062, MAE: 0.0561, MAPE: 42.26%\n"
          ]
        },
        {
          "output_type": "stream",
          "name": "stderr",
          "text": [
            "\u001b[92mINFO \u001b[0m:      aggregate_evaluate: received 5 results and 0 failures\n",
            "\u001b[92mINFO \u001b[0m:      \n",
            "\u001b[92mINFO \u001b[0m:      [ROUND 3]\n",
            "\u001b[92mINFO \u001b[0m:      configure_fit: strategy sampled 10 clients (out of 10)\n",
            "\u001b[92mINFO \u001b[0m:      aggregate_fit: received 10 results and 0 failures\n",
            "\u001b[92mINFO \u001b[0m:      fit progress: (3, 0.005023036617785692, {'MAE': 0.051949623972177505, 'MAPE': 37.18303143978119}, 81.94510101200012)\n",
            "\u001b[92mINFO \u001b[0m:      configure_evaluate: strategy sampled 5 clients (out of 10)\n"
          ]
        },
        {
          "output_type": "stream",
          "name": "stdout",
          "text": [
            "Round 3 - MSE: 0.0050, MAE: 0.0519, MAPE: 37.18%\n"
          ]
        },
        {
          "output_type": "stream",
          "name": "stderr",
          "text": [
            "\u001b[92mINFO \u001b[0m:      aggregate_evaluate: received 5 results and 0 failures\n",
            "\u001b[92mINFO \u001b[0m:      \n",
            "\u001b[92mINFO \u001b[0m:      [ROUND 4]\n",
            "\u001b[92mINFO \u001b[0m:      configure_fit: strategy sampled 10 clients (out of 10)\n",
            "\u001b[92mINFO \u001b[0m:      aggregate_fit: received 10 results and 0 failures\n",
            "\u001b[92mINFO \u001b[0m:      fit progress: (4, 0.003439948195591569, {'MAE': 0.041892386972904205, 'MAPE': 34.57566797733307}, 107.84266712900035)\n",
            "\u001b[92mINFO \u001b[0m:      configure_evaluate: strategy sampled 5 clients (out of 10)\n"
          ]
        },
        {
          "output_type": "stream",
          "name": "stdout",
          "text": [
            "Round 4 - MSE: 0.0034, MAE: 0.0419, MAPE: 34.58%\n"
          ]
        },
        {
          "output_type": "stream",
          "name": "stderr",
          "text": [
            "\u001b[92mINFO \u001b[0m:      aggregate_evaluate: received 5 results and 0 failures\n",
            "\u001b[92mINFO \u001b[0m:      \n",
            "\u001b[92mINFO \u001b[0m:      [ROUND 5]\n",
            "\u001b[92mINFO \u001b[0m:      configure_fit: strategy sampled 10 clients (out of 10)\n",
            "\u001b[92mINFO \u001b[0m:      aggregate_fit: received 10 results and 0 failures\n",
            "\u001b[92mINFO \u001b[0m:      fit progress: (5, 0.0028110183775424957, {'MAE': 0.03790752589702606, 'MAPE': 34.119752049446106}, 133.73179905200004)\n",
            "\u001b[92mINFO \u001b[0m:      configure_evaluate: strategy sampled 5 clients (out of 10)\n"
          ]
        },
        {
          "output_type": "stream",
          "name": "stdout",
          "text": [
            "Round 5 - MSE: 0.0028, MAE: 0.0379, MAPE: 34.12%\n"
          ]
        },
        {
          "output_type": "stream",
          "name": "stderr",
          "text": [
            "\u001b[92mINFO \u001b[0m:      aggregate_evaluate: received 5 results and 0 failures\n",
            "\u001b[92mINFO \u001b[0m:      \n",
            "\u001b[92mINFO \u001b[0m:      [ROUND 6]\n",
            "\u001b[92mINFO \u001b[0m:      configure_fit: strategy sampled 10 clients (out of 10)\n",
            "\u001b[92mINFO \u001b[0m:      aggregate_fit: received 10 results and 0 failures\n",
            "\u001b[92mINFO \u001b[0m:      fit progress: (6, 0.002573555801063776, {'MAE': 0.03633548691868782, 'MAPE': 31.48066997528076}, 159.4082110600002)\n",
            "\u001b[92mINFO \u001b[0m:      configure_evaluate: strategy sampled 5 clients (out of 10)\n"
          ]
        },
        {
          "output_type": "stream",
          "name": "stdout",
          "text": [
            "Round 6 - MSE: 0.0026, MAE: 0.0363, MAPE: 31.48%\n"
          ]
        },
        {
          "output_type": "stream",
          "name": "stderr",
          "text": [
            "\u001b[92mINFO \u001b[0m:      aggregate_evaluate: received 5 results and 0 failures\n",
            "\u001b[92mINFO \u001b[0m:      \n",
            "\u001b[92mINFO \u001b[0m:      [ROUND 7]\n",
            "\u001b[92mINFO \u001b[0m:      configure_fit: strategy sampled 10 clients (out of 10)\n",
            "\u001b[92mINFO \u001b[0m:      aggregate_fit: received 10 results and 0 failures\n",
            "\u001b[92mINFO \u001b[0m:      fit progress: (7, 0.0022743246518075466, {'MAE': 0.033857252448797226, 'MAPE': 30.750536918640137}, 185.1789609110001)\n",
            "\u001b[92mINFO \u001b[0m:      configure_evaluate: strategy sampled 5 clients (out of 10)\n"
          ]
        },
        {
          "output_type": "stream",
          "name": "stdout",
          "text": [
            "Round 7 - MSE: 0.0023, MAE: 0.0339, MAPE: 30.75%\n"
          ]
        },
        {
          "output_type": "stream",
          "name": "stderr",
          "text": [
            "\u001b[92mINFO \u001b[0m:      aggregate_evaluate: received 5 results and 0 failures\n",
            "\u001b[92mINFO \u001b[0m:      \n",
            "\u001b[92mINFO \u001b[0m:      [ROUND 8]\n",
            "\u001b[92mINFO \u001b[0m:      configure_fit: strategy sampled 10 clients (out of 10)\n",
            "\u001b[92mINFO \u001b[0m:      aggregate_fit: received 10 results and 0 failures\n",
            "\u001b[92mINFO \u001b[0m:      fit progress: (8, 0.002065656939521432, {'MAE': 0.032141007483005524, 'MAPE': 32.853761315345764}, 211.15106778500012)\n",
            "\u001b[92mINFO \u001b[0m:      configure_evaluate: strategy sampled 5 clients (out of 10)\n"
          ]
        },
        {
          "output_type": "stream",
          "name": "stdout",
          "text": [
            "Round 8 - MSE: 0.0021, MAE: 0.0321, MAPE: 32.85%\n"
          ]
        },
        {
          "output_type": "stream",
          "name": "stderr",
          "text": [
            "\u001b[92mINFO \u001b[0m:      aggregate_evaluate: received 5 results and 0 failures\n",
            "\u001b[92mINFO \u001b[0m:      \n",
            "\u001b[92mINFO \u001b[0m:      [ROUND 9]\n",
            "\u001b[92mINFO \u001b[0m:      configure_fit: strategy sampled 10 clients (out of 10)\n",
            "\u001b[92mINFO \u001b[0m:      aggregate_fit: received 10 results and 0 failures\n",
            "\u001b[92mINFO \u001b[0m:      fit progress: (9, 0.002137155970558524, {'MAE': 0.033105283975601196, 'MAPE': 32.459208369255066}, 237.83690388600007)\n",
            "\u001b[92mINFO \u001b[0m:      configure_evaluate: strategy sampled 5 clients (out of 10)\n"
          ]
        },
        {
          "output_type": "stream",
          "name": "stdout",
          "text": [
            "Round 9 - MSE: 0.0021, MAE: 0.0331, MAPE: 32.46%\n"
          ]
        },
        {
          "output_type": "stream",
          "name": "stderr",
          "text": [
            "\u001b[92mINFO \u001b[0m:      aggregate_evaluate: received 5 results and 0 failures\n",
            "\u001b[92mINFO \u001b[0m:      \n",
            "\u001b[92mINFO \u001b[0m:      [ROUND 10]\n",
            "\u001b[92mINFO \u001b[0m:      configure_fit: strategy sampled 10 clients (out of 10)\n",
            "\u001b[92mINFO \u001b[0m:      aggregate_fit: received 10 results and 0 failures\n",
            "\u001b[92mINFO \u001b[0m:      fit progress: (10, 0.0020539341494441032, {'MAE': 0.03259109705686569, 'MAPE': 34.74375605583191}, 263.39326027000016)\n",
            "\u001b[92mINFO \u001b[0m:      configure_evaluate: strategy sampled 5 clients (out of 10)\n"
          ]
        },
        {
          "output_type": "stream",
          "name": "stdout",
          "text": [
            "Round 10 - MSE: 0.0021, MAE: 0.0326, MAPE: 34.74%\n"
          ]
        },
        {
          "output_type": "stream",
          "name": "stderr",
          "text": [
            "\u001b[92mINFO \u001b[0m:      aggregate_evaluate: received 5 results and 0 failures\n",
            "\u001b[92mINFO \u001b[0m:      \n",
            "\u001b[92mINFO \u001b[0m:      [ROUND 11]\n",
            "\u001b[92mINFO \u001b[0m:      configure_fit: strategy sampled 10 clients (out of 10)\n",
            "\u001b[92mINFO \u001b[0m:      aggregate_fit: received 10 results and 0 failures\n",
            "\u001b[92mINFO \u001b[0m:      fit progress: (11, 0.0016952980076894164, {'MAE': 0.029437771067023277, 'MAPE': 31.269294023513794}, 289.10987539200005)\n",
            "\u001b[92mINFO \u001b[0m:      configure_evaluate: strategy sampled 5 clients (out of 10)\n"
          ]
        },
        {
          "output_type": "stream",
          "name": "stdout",
          "text": [
            "Round 11 - MSE: 0.0017, MAE: 0.0294, MAPE: 31.27%\n"
          ]
        },
        {
          "output_type": "stream",
          "name": "stderr",
          "text": [
            "\u001b[92mINFO \u001b[0m:      aggregate_evaluate: received 5 results and 0 failures\n",
            "\u001b[92mINFO \u001b[0m:      \n",
            "\u001b[92mINFO \u001b[0m:      [ROUND 12]\n",
            "\u001b[92mINFO \u001b[0m:      configure_fit: strategy sampled 10 clients (out of 10)\n",
            "\u001b[92mINFO \u001b[0m:      aggregate_fit: received 10 results and 0 failures\n",
            "\u001b[92mINFO \u001b[0m:      fit progress: (12, 0.0015745173441246152, {'MAE': 0.028059305623173714, 'MAPE': 32.97399878501892}, 314.5946928420003)\n",
            "\u001b[92mINFO \u001b[0m:      configure_evaluate: strategy sampled 5 clients (out of 10)\n"
          ]
        },
        {
          "output_type": "stream",
          "name": "stdout",
          "text": [
            "Round 12 - MSE: 0.0016, MAE: 0.0281, MAPE: 32.97%\n"
          ]
        },
        {
          "output_type": "stream",
          "name": "stderr",
          "text": [
            "\u001b[92mINFO \u001b[0m:      aggregate_evaluate: received 5 results and 0 failures\n",
            "\u001b[92mINFO \u001b[0m:      \n",
            "\u001b[92mINFO \u001b[0m:      [ROUND 13]\n",
            "\u001b[92mINFO \u001b[0m:      configure_fit: strategy sampled 10 clients (out of 10)\n",
            "\u001b[92mINFO \u001b[0m:      aggregate_fit: received 10 results and 0 failures\n",
            "\u001b[92mINFO \u001b[0m:      fit progress: (13, 0.001604050281457603, {'MAE': 0.028959112241864204, 'MAPE': 29.02352809906006}, 340.0271788130003)\n",
            "\u001b[92mINFO \u001b[0m:      configure_evaluate: strategy sampled 5 clients (out of 10)\n"
          ]
        },
        {
          "output_type": "stream",
          "name": "stdout",
          "text": [
            "Round 13 - MSE: 0.0016, MAE: 0.0290, MAPE: 29.02%\n"
          ]
        },
        {
          "output_type": "stream",
          "name": "stderr",
          "text": [
            "\u001b[92mINFO \u001b[0m:      aggregate_evaluate: received 5 results and 0 failures\n",
            "\u001b[92mINFO \u001b[0m:      \n",
            "\u001b[92mINFO \u001b[0m:      [ROUND 14]\n",
            "\u001b[92mINFO \u001b[0m:      configure_fit: strategy sampled 10 clients (out of 10)\n",
            "\u001b[92mINFO \u001b[0m:      aggregate_fit: received 10 results and 0 failures\n",
            "\u001b[92mINFO \u001b[0m:      fit progress: (14, 0.001534105627797544, {'MAE': 0.02821868471801281, 'MAPE': 29.52626645565033}, 365.61667988399995)\n",
            "\u001b[92mINFO \u001b[0m:      configure_evaluate: strategy sampled 5 clients (out of 10)\n"
          ]
        },
        {
          "output_type": "stream",
          "name": "stdout",
          "text": [
            "Round 14 - MSE: 0.0015, MAE: 0.0282, MAPE: 29.53%\n"
          ]
        },
        {
          "output_type": "stream",
          "name": "stderr",
          "text": [
            "\u001b[92mINFO \u001b[0m:      aggregate_evaluate: received 5 results and 0 failures\n",
            "\u001b[92mINFO \u001b[0m:      \n",
            "\u001b[92mINFO \u001b[0m:      [ROUND 15]\n",
            "\u001b[92mINFO \u001b[0m:      configure_fit: strategy sampled 10 clients (out of 10)\n",
            "\u001b[92mINFO \u001b[0m:      aggregate_fit: received 10 results and 0 failures\n",
            "\u001b[92mINFO \u001b[0m:      fit progress: (15, 0.0014019946102052927, {'MAE': 0.026323454454541206, 'MAPE': 28.428876399993896}, 391.415316095)\n",
            "\u001b[92mINFO \u001b[0m:      configure_evaluate: strategy sampled 5 clients (out of 10)\n"
          ]
        },
        {
          "output_type": "stream",
          "name": "stdout",
          "text": [
            "Round 15 - MSE: 0.0014, MAE: 0.0263, MAPE: 28.43%\n"
          ]
        },
        {
          "output_type": "stream",
          "name": "stderr",
          "text": [
            "\u001b[92mINFO \u001b[0m:      aggregate_evaluate: received 5 results and 0 failures\n",
            "\u001b[92mINFO \u001b[0m:      \n",
            "\u001b[92mINFO \u001b[0m:      [ROUND 16]\n",
            "\u001b[92mINFO \u001b[0m:      configure_fit: strategy sampled 10 clients (out of 10)\n",
            "\u001b[92mINFO \u001b[0m:      aggregate_fit: received 10 results and 0 failures\n",
            "\u001b[92mINFO \u001b[0m:      fit progress: (16, 0.001483134226873517, {'MAE': 0.02751566842198372, 'MAPE': 30.55829107761383}, 417.0942262630001)\n",
            "\u001b[92mINFO \u001b[0m:      configure_evaluate: strategy sampled 5 clients (out of 10)\n"
          ]
        },
        {
          "output_type": "stream",
          "name": "stdout",
          "text": [
            "Round 16 - MSE: 0.0015, MAE: 0.0275, MAPE: 30.56%\n"
          ]
        },
        {
          "output_type": "stream",
          "name": "stderr",
          "text": [
            "\u001b[92mINFO \u001b[0m:      aggregate_evaluate: received 5 results and 0 failures\n",
            "\u001b[92mINFO \u001b[0m:      \n",
            "\u001b[92mINFO \u001b[0m:      [ROUND 17]\n",
            "\u001b[92mINFO \u001b[0m:      configure_fit: strategy sampled 10 clients (out of 10)\n",
            "\u001b[92mINFO \u001b[0m:      aggregate_fit: received 10 results and 0 failures\n",
            "\u001b[92mINFO \u001b[0m:      fit progress: (17, 0.0014474353520199656, {'MAE': 0.027564235031604767, 'MAPE': 26.895827054977417}, 443.0744571140003)\n",
            "\u001b[92mINFO \u001b[0m:      configure_evaluate: strategy sampled 5 clients (out of 10)\n"
          ]
        },
        {
          "output_type": "stream",
          "name": "stdout",
          "text": [
            "Round 17 - MSE: 0.0014, MAE: 0.0276, MAPE: 26.90%\n"
          ]
        },
        {
          "output_type": "stream",
          "name": "stderr",
          "text": [
            "\u001b[92mINFO \u001b[0m:      aggregate_evaluate: received 5 results and 0 failures\n",
            "\u001b[92mINFO \u001b[0m:      \n",
            "\u001b[92mINFO \u001b[0m:      [ROUND 18]\n",
            "\u001b[92mINFO \u001b[0m:      configure_fit: strategy sampled 10 clients (out of 10)\n",
            "\u001b[92mINFO \u001b[0m:      aggregate_fit: received 10 results and 0 failures\n",
            "\u001b[92mINFO \u001b[0m:      fit progress: (18, 0.0015457149129360914, {'MAE': 0.027977894991636276, 'MAPE': 25.65838098526001}, 469.0599542230002)\n",
            "\u001b[92mINFO \u001b[0m:      configure_evaluate: strategy sampled 5 clients (out of 10)\n"
          ]
        },
        {
          "output_type": "stream",
          "name": "stdout",
          "text": [
            "Round 18 - MSE: 0.0015, MAE: 0.0280, MAPE: 25.66%\n"
          ]
        },
        {
          "output_type": "stream",
          "name": "stderr",
          "text": [
            "\u001b[92mINFO \u001b[0m:      aggregate_evaluate: received 5 results and 0 failures\n",
            "\u001b[92mINFO \u001b[0m:      \n",
            "\u001b[92mINFO \u001b[0m:      [ROUND 19]\n",
            "\u001b[92mINFO \u001b[0m:      configure_fit: strategy sampled 10 clients (out of 10)\n",
            "\u001b[92mINFO \u001b[0m:      aggregate_fit: received 10 results and 0 failures\n",
            "\u001b[92mINFO \u001b[0m:      fit progress: (19, 0.0013248176546767354, {'MAE': 0.025620225816965103, 'MAPE': 25.405466556549072}, 495.996246658)\n",
            "\u001b[92mINFO \u001b[0m:      configure_evaluate: strategy sampled 5 clients (out of 10)\n"
          ]
        },
        {
          "output_type": "stream",
          "name": "stdout",
          "text": [
            "Round 19 - MSE: 0.0013, MAE: 0.0256, MAPE: 25.41%\n"
          ]
        },
        {
          "output_type": "stream",
          "name": "stderr",
          "text": [
            "\u001b[92mINFO \u001b[0m:      aggregate_evaluate: received 5 results and 0 failures\n",
            "\u001b[92mINFO \u001b[0m:      \n",
            "\u001b[92mINFO \u001b[0m:      [ROUND 20]\n",
            "\u001b[92mINFO \u001b[0m:      configure_fit: strategy sampled 10 clients (out of 10)\n",
            "\u001b[92mINFO \u001b[0m:      aggregate_fit: received 10 results and 0 failures\n",
            "\u001b[92mINFO \u001b[0m:      fit progress: (20, 0.001212951261550188, {'MAE': 0.02473313733935356, 'MAPE': 26.288580894470215}, 521.674743945)\n",
            "\u001b[92mINFO \u001b[0m:      configure_evaluate: strategy sampled 5 clients (out of 10)\n"
          ]
        },
        {
          "output_type": "stream",
          "name": "stdout",
          "text": [
            "Round 20 - MSE: 0.0012, MAE: 0.0247, MAPE: 26.29%\n"
          ]
        },
        {
          "output_type": "stream",
          "name": "stderr",
          "text": [
            "\u001b[92mINFO \u001b[0m:      aggregate_evaluate: received 5 results and 0 failures\n",
            "\u001b[92mINFO \u001b[0m:      \n",
            "\u001b[92mINFO \u001b[0m:      [ROUND 21]\n",
            "\u001b[92mINFO \u001b[0m:      configure_fit: strategy sampled 10 clients (out of 10)\n",
            "\u001b[92mINFO \u001b[0m:      aggregate_fit: received 10 results and 0 failures\n",
            "\u001b[92mINFO \u001b[0m:      fit progress: (21, 0.0013139485381543636, {'MAE': 0.02541288733482361, 'MAPE': 23.861750960350037}, 548.1252858450002)\n",
            "\u001b[92mINFO \u001b[0m:      configure_evaluate: strategy sampled 5 clients (out of 10)\n"
          ]
        },
        {
          "output_type": "stream",
          "name": "stdout",
          "text": [
            "Round 21 - MSE: 0.0013, MAE: 0.0254, MAPE: 23.86%\n"
          ]
        },
        {
          "output_type": "stream",
          "name": "stderr",
          "text": [
            "\u001b[92mINFO \u001b[0m:      aggregate_evaluate: received 5 results and 0 failures\n",
            "\u001b[92mINFO \u001b[0m:      \n",
            "\u001b[92mINFO \u001b[0m:      [ROUND 22]\n",
            "\u001b[92mINFO \u001b[0m:      configure_fit: strategy sampled 10 clients (out of 10)\n",
            "\u001b[92mINFO \u001b[0m:      aggregate_fit: received 10 results and 0 failures\n",
            "\u001b[92mINFO \u001b[0m:      fit progress: (22, 0.0011428779689595103, {'MAE': 0.023694345727562904, 'MAPE': 24.498601257801056}, 574.1896388929999)\n",
            "\u001b[92mINFO \u001b[0m:      configure_evaluate: strategy sampled 5 clients (out of 10)\n"
          ]
        },
        {
          "output_type": "stream",
          "name": "stdout",
          "text": [
            "Round 22 - MSE: 0.0011, MAE: 0.0237, MAPE: 24.50%\n"
          ]
        },
        {
          "output_type": "stream",
          "name": "stderr",
          "text": [
            "\u001b[92mINFO \u001b[0m:      aggregate_evaluate: received 5 results and 0 failures\n",
            "\u001b[92mINFO \u001b[0m:      \n",
            "\u001b[92mINFO \u001b[0m:      [ROUND 23]\n",
            "\u001b[92mINFO \u001b[0m:      configure_fit: strategy sampled 10 clients (out of 10)\n",
            "\u001b[92mINFO \u001b[0m:      aggregate_fit: received 10 results and 0 failures\n",
            "\u001b[92mINFO \u001b[0m:      fit progress: (23, 0.0010902571957558393, {'MAE': 0.023244017735123634, 'MAPE': 25.040757656097412}, 603.0937448330001)\n",
            "\u001b[92mINFO \u001b[0m:      configure_evaluate: strategy sampled 5 clients (out of 10)\n"
          ]
        },
        {
          "output_type": "stream",
          "name": "stdout",
          "text": [
            "Round 23 - MSE: 0.0011, MAE: 0.0232, MAPE: 25.04%\n"
          ]
        },
        {
          "output_type": "stream",
          "name": "stderr",
          "text": [
            "\u001b[92mINFO \u001b[0m:      aggregate_evaluate: received 5 results and 0 failures\n",
            "\u001b[92mINFO \u001b[0m:      \n",
            "\u001b[92mINFO \u001b[0m:      [ROUND 24]\n",
            "\u001b[92mINFO \u001b[0m:      configure_fit: strategy sampled 10 clients (out of 10)\n",
            "\u001b[92mINFO \u001b[0m:      aggregate_fit: received 10 results and 0 failures\n",
            "\u001b[92mINFO \u001b[0m:      fit progress: (24, 0.0010598482331261039, {'MAE': 0.023000136017799377, 'MAPE': 25.79139471054077}, 629.0919294680002)\n",
            "\u001b[92mINFO \u001b[0m:      configure_evaluate: strategy sampled 5 clients (out of 10)\n"
          ]
        },
        {
          "output_type": "stream",
          "name": "stdout",
          "text": [
            "Round 24 - MSE: 0.0011, MAE: 0.0230, MAPE: 25.79%\n"
          ]
        },
        {
          "output_type": "stream",
          "name": "stderr",
          "text": [
            "\u001b[92mINFO \u001b[0m:      aggregate_evaluate: received 5 results and 0 failures\n",
            "\u001b[92mINFO \u001b[0m:      \n",
            "\u001b[92mINFO \u001b[0m:      [ROUND 25]\n",
            "\u001b[92mINFO \u001b[0m:      configure_fit: strategy sampled 10 clients (out of 10)\n",
            "\u001b[92mINFO \u001b[0m:      aggregate_fit: received 10 results and 0 failures\n",
            "\u001b[92mINFO \u001b[0m:      fit progress: (25, 0.0010360797168686986, {'MAE': 0.022609058767557144, 'MAPE': 25.463762879371643}, 655.5361258610001)\n",
            "\u001b[92mINFO \u001b[0m:      configure_evaluate: strategy sampled 5 clients (out of 10)\n"
          ]
        },
        {
          "output_type": "stream",
          "name": "stdout",
          "text": [
            "Round 25 - MSE: 0.0010, MAE: 0.0226, MAPE: 25.46%\n"
          ]
        },
        {
          "output_type": "stream",
          "name": "stderr",
          "text": [
            "\u001b[92mINFO \u001b[0m:      aggregate_evaluate: received 5 results and 0 failures\n",
            "\u001b[92mINFO \u001b[0m:      \n",
            "\u001b[92mINFO \u001b[0m:      [ROUND 26]\n",
            "\u001b[92mINFO \u001b[0m:      configure_fit: strategy sampled 10 clients (out of 10)\n",
            "\u001b[92mINFO \u001b[0m:      aggregate_fit: received 10 results and 0 failures\n",
            "\u001b[92mINFO \u001b[0m:      fit progress: (26, 0.0010933579178526998, {'MAE': 0.023359045386314392, 'MAPE': 21.828803420066833}, 681.840641668)\n",
            "\u001b[92mINFO \u001b[0m:      configure_evaluate: strategy sampled 5 clients (out of 10)\n"
          ]
        },
        {
          "output_type": "stream",
          "name": "stdout",
          "text": [
            "Round 26 - MSE: 0.0011, MAE: 0.0234, MAPE: 21.83%\n"
          ]
        },
        {
          "output_type": "stream",
          "name": "stderr",
          "text": [
            "\u001b[92mINFO \u001b[0m:      aggregate_evaluate: received 5 results and 0 failures\n",
            "\u001b[92mINFO \u001b[0m:      \n",
            "\u001b[92mINFO \u001b[0m:      [ROUND 27]\n",
            "\u001b[92mINFO \u001b[0m:      configure_fit: strategy sampled 10 clients (out of 10)\n",
            "\u001b[92mINFO \u001b[0m:      aggregate_fit: received 10 results and 0 failures\n",
            "\u001b[92mINFO \u001b[0m:      fit progress: (27, 0.0010353750549256802, {'MAE': 0.023012202233076096, 'MAPE': 24.107670783996582}, 708.0187977830001)\n",
            "\u001b[92mINFO \u001b[0m:      configure_evaluate: strategy sampled 5 clients (out of 10)\n"
          ]
        },
        {
          "output_type": "stream",
          "name": "stdout",
          "text": [
            "Round 27 - MSE: 0.0010, MAE: 0.0230, MAPE: 24.11%\n"
          ]
        },
        {
          "output_type": "stream",
          "name": "stderr",
          "text": [
            "\u001b[92mINFO \u001b[0m:      aggregate_evaluate: received 5 results and 0 failures\n",
            "\u001b[92mINFO \u001b[0m:      \n",
            "\u001b[92mINFO \u001b[0m:      [ROUND 28]\n",
            "\u001b[92mINFO \u001b[0m:      configure_fit: strategy sampled 10 clients (out of 10)\n",
            "\u001b[92mINFO \u001b[0m:      aggregate_fit: received 10 results and 0 failures\n",
            "\u001b[92mINFO \u001b[0m:      fit progress: (28, 0.0010006221709772944, {'MAE': 0.021943463012576103, 'MAPE': 21.37887179851532}, 734.3234627390002)\n",
            "\u001b[92mINFO \u001b[0m:      configure_evaluate: strategy sampled 5 clients (out of 10)\n"
          ]
        },
        {
          "output_type": "stream",
          "name": "stdout",
          "text": [
            "Round 28 - MSE: 0.0010, MAE: 0.0219, MAPE: 21.38%\n"
          ]
        },
        {
          "output_type": "stream",
          "name": "stderr",
          "text": [
            "\u001b[92mINFO \u001b[0m:      aggregate_evaluate: received 5 results and 0 failures\n",
            "\u001b[92mINFO \u001b[0m:      \n",
            "\u001b[92mINFO \u001b[0m:      [ROUND 29]\n",
            "\u001b[92mINFO \u001b[0m:      configure_fit: strategy sampled 10 clients (out of 10)\n",
            "\u001b[92mINFO \u001b[0m:      aggregate_fit: received 10 results and 0 failures\n",
            "\u001b[92mINFO \u001b[0m:      fit progress: (29, 0.001030888524837792, {'MAE': 0.022508298978209496, 'MAPE': 20.55235505104065}, 760.595281158)\n",
            "\u001b[92mINFO \u001b[0m:      configure_evaluate: strategy sampled 5 clients (out of 10)\n"
          ]
        },
        {
          "output_type": "stream",
          "name": "stdout",
          "text": [
            "Round 29 - MSE: 0.0010, MAE: 0.0225, MAPE: 20.55%\n"
          ]
        },
        {
          "output_type": "stream",
          "name": "stderr",
          "text": [
            "\u001b[92mINFO \u001b[0m:      aggregate_evaluate: received 5 results and 0 failures\n",
            "\u001b[92mINFO \u001b[0m:      \n",
            "\u001b[92mINFO \u001b[0m:      [ROUND 30]\n",
            "\u001b[92mINFO \u001b[0m:      configure_fit: strategy sampled 10 clients (out of 10)\n",
            "\u001b[92mINFO \u001b[0m:      aggregate_fit: received 10 results and 0 failures\n",
            "\u001b[92mINFO \u001b[0m:      fit progress: (30, 0.0010770995868369937, {'MAE': 0.023128436878323555, 'MAPE': 20.524077117443085}, 787.6820965450001)\n",
            "\u001b[92mINFO \u001b[0m:      configure_evaluate: strategy sampled 5 clients (out of 10)\n"
          ]
        },
        {
          "output_type": "stream",
          "name": "stdout",
          "text": [
            "Round 30 - MSE: 0.0011, MAE: 0.0231, MAPE: 20.52%\n"
          ]
        },
        {
          "output_type": "stream",
          "name": "stderr",
          "text": [
            "\u001b[92mINFO \u001b[0m:      aggregate_evaluate: received 5 results and 0 failures\n",
            "\u001b[92mINFO \u001b[0m:      \n",
            "\u001b[92mINFO \u001b[0m:      [ROUND 31]\n",
            "\u001b[92mINFO \u001b[0m:      configure_fit: strategy sampled 10 clients (out of 10)\n",
            "\u001b[92mINFO \u001b[0m:      aggregate_fit: received 10 results and 0 failures\n",
            "\u001b[92mINFO \u001b[0m:      fit progress: (31, 0.0010706429602578282, {'MAE': 0.023470154032111168, 'MAPE': 22.711387276649475}, 813.768369465)\n",
            "\u001b[92mINFO \u001b[0m:      configure_evaluate: strategy sampled 5 clients (out of 10)\n"
          ]
        },
        {
          "output_type": "stream",
          "name": "stdout",
          "text": [
            "Round 31 - MSE: 0.0011, MAE: 0.0235, MAPE: 22.71%\n"
          ]
        },
        {
          "output_type": "stream",
          "name": "stderr",
          "text": [
            "\u001b[92mINFO \u001b[0m:      aggregate_evaluate: received 5 results and 0 failures\n",
            "\u001b[92mINFO \u001b[0m:      \n",
            "\u001b[92mINFO \u001b[0m:      [ROUND 32]\n",
            "\u001b[92mINFO \u001b[0m:      configure_fit: strategy sampled 10 clients (out of 10)\n",
            "\u001b[92mINFO \u001b[0m:      aggregate_fit: received 10 results and 0 failures\n",
            "\u001b[92mINFO \u001b[0m:      fit progress: (32, 0.0010656802915036678, {'MAE': 0.024157870560884476, 'MAPE': 19.196245074272156}, 840.1110542470001)\n",
            "\u001b[92mINFO \u001b[0m:      configure_evaluate: strategy sampled 5 clients (out of 10)\n"
          ]
        },
        {
          "output_type": "stream",
          "name": "stdout",
          "text": [
            "Round 32 - MSE: 0.0011, MAE: 0.0242, MAPE: 19.20%\n"
          ]
        },
        {
          "output_type": "stream",
          "name": "stderr",
          "text": [
            "\u001b[92mINFO \u001b[0m:      aggregate_evaluate: received 5 results and 0 failures\n",
            "\u001b[92mINFO \u001b[0m:      \n",
            "\u001b[92mINFO \u001b[0m:      [ROUND 33]\n",
            "\u001b[92mINFO \u001b[0m:      configure_fit: strategy sampled 10 clients (out of 10)\n",
            "\u001b[92mINFO \u001b[0m:      aggregate_fit: received 10 results and 0 failures\n",
            "\u001b[92mINFO \u001b[0m:      fit progress: (33, 0.0008788779377937317, {'MAE': 0.020678594708442688, 'MAPE': 22.906997799873352}, 865.7983780700001)\n",
            "\u001b[92mINFO \u001b[0m:      configure_evaluate: strategy sampled 5 clients (out of 10)\n"
          ]
        },
        {
          "output_type": "stream",
          "name": "stdout",
          "text": [
            "Round 33 - MSE: 0.0009, MAE: 0.0207, MAPE: 22.91%\n"
          ]
        },
        {
          "output_type": "stream",
          "name": "stderr",
          "text": [
            "\u001b[92mINFO \u001b[0m:      aggregate_evaluate: received 5 results and 0 failures\n",
            "\u001b[92mINFO \u001b[0m:      \n",
            "\u001b[92mINFO \u001b[0m:      [ROUND 34]\n",
            "\u001b[92mINFO \u001b[0m:      configure_fit: strategy sampled 10 clients (out of 10)\n",
            "\u001b[92mINFO \u001b[0m:      aggregate_fit: received 10 results and 0 failures\n",
            "\u001b[92mINFO \u001b[0m:      fit progress: (34, 0.0008579894783906639, {'MAE': 0.02053152769804001, 'MAPE': 23.049354553222656}, 891.5525240410002)\n",
            "\u001b[92mINFO \u001b[0m:      configure_evaluate: strategy sampled 5 clients (out of 10)\n"
          ]
        },
        {
          "output_type": "stream",
          "name": "stdout",
          "text": [
            "Round 34 - MSE: 0.0009, MAE: 0.0205, MAPE: 23.05%\n"
          ]
        },
        {
          "output_type": "stream",
          "name": "stderr",
          "text": [
            "\u001b[92mINFO \u001b[0m:      aggregate_evaluate: received 5 results and 0 failures\n",
            "\u001b[92mINFO \u001b[0m:      \n",
            "\u001b[92mINFO \u001b[0m:      [ROUND 35]\n",
            "\u001b[92mINFO \u001b[0m:      configure_fit: strategy sampled 10 clients (out of 10)\n",
            "\u001b[92mINFO \u001b[0m:      aggregate_fit: received 10 results and 0 failures\n",
            "\u001b[92mINFO \u001b[0m:      fit progress: (35, 0.0008509168401360512, {'MAE': 0.020730851218104362, 'MAPE': 20.561952888965607}, 917.442123157)\n",
            "\u001b[92mINFO \u001b[0m:      configure_evaluate: strategy sampled 5 clients (out of 10)\n"
          ]
        },
        {
          "output_type": "stream",
          "name": "stdout",
          "text": [
            "Round 35 - MSE: 0.0009, MAE: 0.0207, MAPE: 20.56%\n"
          ]
        },
        {
          "output_type": "stream",
          "name": "stderr",
          "text": [
            "\u001b[92mINFO \u001b[0m:      aggregate_evaluate: received 5 results and 0 failures\n",
            "\u001b[92mINFO \u001b[0m:      \n",
            "\u001b[92mINFO \u001b[0m:      [ROUND 36]\n",
            "\u001b[92mINFO \u001b[0m:      configure_fit: strategy sampled 10 clients (out of 10)\n",
            "\u001b[92mINFO \u001b[0m:      aggregate_fit: received 10 results and 0 failures\n",
            "\u001b[92mINFO \u001b[0m:      fit progress: (36, 0.0008925973670557141, {'MAE': 0.020613936707377434, 'MAPE': 20.50258368253708}, 943.5451954800001)\n",
            "\u001b[92mINFO \u001b[0m:      configure_evaluate: strategy sampled 5 clients (out of 10)\n"
          ]
        },
        {
          "output_type": "stream",
          "name": "stdout",
          "text": [
            "Round 36 - MSE: 0.0009, MAE: 0.0206, MAPE: 20.50%\n"
          ]
        },
        {
          "output_type": "stream",
          "name": "stderr",
          "text": [
            "\u001b[92mINFO \u001b[0m:      aggregate_evaluate: received 5 results and 0 failures\n",
            "\u001b[92mINFO \u001b[0m:      \n",
            "\u001b[92mINFO \u001b[0m:      [ROUND 37]\n",
            "\u001b[92mINFO \u001b[0m:      configure_fit: strategy sampled 10 clients (out of 10)\n",
            "\u001b[92mINFO \u001b[0m:      aggregate_fit: received 10 results and 0 failures\n",
            "\u001b[92mINFO \u001b[0m:      fit progress: (37, 0.0008365436806343496, {'MAE': 0.020769290626049042, 'MAPE': 19.22859400510788}, 969.5346989979998)\n",
            "\u001b[92mINFO \u001b[0m:      configure_evaluate: strategy sampled 5 clients (out of 10)\n"
          ]
        },
        {
          "output_type": "stream",
          "name": "stdout",
          "text": [
            "Round 37 - MSE: 0.0008, MAE: 0.0208, MAPE: 19.23%\n"
          ]
        },
        {
          "output_type": "stream",
          "name": "stderr",
          "text": [
            "\u001b[92mINFO \u001b[0m:      aggregate_evaluate: received 5 results and 0 failures\n",
            "\u001b[92mINFO \u001b[0m:      \n",
            "\u001b[92mINFO \u001b[0m:      [ROUND 38]\n",
            "\u001b[92mINFO \u001b[0m:      configure_fit: strategy sampled 10 clients (out of 10)\n",
            "\u001b[92mINFO \u001b[0m:      aggregate_fit: received 10 results and 0 failures\n",
            "\u001b[92mINFO \u001b[0m:      fit progress: (38, 0.0009600899647921324, {'MAE': 0.022619787603616714, 'MAPE': 22.861813008785248}, 995.601641706)\n",
            "\u001b[92mINFO \u001b[0m:      configure_evaluate: strategy sampled 5 clients (out of 10)\n"
          ]
        },
        {
          "output_type": "stream",
          "name": "stdout",
          "text": [
            "Round 38 - MSE: 0.0010, MAE: 0.0226, MAPE: 22.86%\n"
          ]
        },
        {
          "output_type": "stream",
          "name": "stderr",
          "text": [
            "\u001b[92mINFO \u001b[0m:      aggregate_evaluate: received 5 results and 0 failures\n",
            "\u001b[92mINFO \u001b[0m:      \n",
            "\u001b[92mINFO \u001b[0m:      [ROUND 39]\n",
            "\u001b[92mINFO \u001b[0m:      configure_fit: strategy sampled 10 clients (out of 10)\n",
            "\u001b[91mERROR \u001b[0m:     ServerApp thread raised an exception: Message contains an Error (reason: Error: Message Unavailable - The requested message could not be found in the database. It may have expired due to its TTL or never existed.). It originated during client-side execution of a message.\n",
            "\u001b[91mERROR \u001b[0m:     Traceback (most recent call last):\n",
            "  File \"/usr/local/lib/python3.11/dist-packages/flwr/simulation/run_simulation.py\", line 268, in server_th_with_start_checks\n",
            "    updated_context = _run(\n",
            "                      ^^^^^\n",
            "  File \"/usr/local/lib/python3.11/dist-packages/flwr/server/run_serverapp.py\", line 63, in run\n",
            "    server_app(driver=driver, context=context)\n",
            "  File \"/usr/local/lib/python3.11/dist-packages/flwr/server/server_app.py\", line 120, in __call__\n",
            "    start_driver(\n",
            "  File \"/usr/local/lib/python3.11/dist-packages/flwr/server/compat/app.py\", line 87, in start_driver\n",
            "    hist = run_fl(\n",
            "           ^^^^^^^\n",
            "  File \"/usr/local/lib/python3.11/dist-packages/flwr/server/server.py\", line 492, in run_fl\n",
            "    hist, elapsed_time = server.fit(\n",
            "                         ^^^^^^^^^^^\n",
            "  File \"/usr/local/lib/python3.11/dist-packages/flwr/server/server.py\", line 93, in fit\n",
            "    self.parameters = self._get_initial_parameters(server_round=0, timeout=timeout)\n",
            "                      ^^^^^^^^^^^^^^^^^^^^^^^^^^^^^^^^^^^^^^^^^^^^^^^^^^^^^^^^^^^^^\n",
            "  File \"/usr/local/lib/python3.11/dist-packages/flwr/server/server.py\", line 284, in _get_initial_parameters\n",
            "    get_parameters_res = random_client.get_parameters(\n",
            "                         ^^^^^^^^^^^^^^^^^^^^^^^^^^^^^\n",
            "  File \"/usr/local/lib/python3.11/dist-packages/flwr/server/compat/driver_client_proxy.py\", line 63, in get_parameters\n",
            "    in_recordset = self._send_receive_recordset(\n",
            "                   ^^^^^^^^^^^^^^^^^^^^^^^^^^^^^\n",
            "  File \"/usr/local/lib/python3.11/dist-packages/flwr/server/compat/driver_client_proxy.py\", line 131, in _send_receive_recordset\n",
            "    raise ValueError(\n",
            "ValueError: Message contains an Error (reason: Error: Message Unavailable - The requested message could not be found in the database. It may have expired due to its TTL or never existed.). It originated during client-side execution of a message.\n",
            "\n",
            "Exception in thread Thread-8 (server_th_with_start_checks):\n",
            "Traceback (most recent call last):\n",
            "  File \"/usr/lib/python3.11/threading.py\", line 1045, in _bootstrap_inner\n",
            "    self.run()\n",
            "  File \"/usr/lib/python3.11/threading.py\", line 982, in run\n",
            "    self._target(*self._args, **self._kwargs)\n",
            "  File \"/usr/local/lib/python3.11/dist-packages/flwr/simulation/run_simulation.py\", line 268, in server_th_with_start_checks\n",
            "    updated_context = _run(\n",
            "                      ^^^^^\n",
            "  File \"/usr/local/lib/python3.11/dist-packages/flwr/server/run_serverapp.py\", line 63, in run\n",
            "    server_app(driver=driver, context=context)\n",
            "  File \"/usr/local/lib/python3.11/dist-packages/flwr/server/server_app.py\", line 120, in __call__\n",
            "    start_driver(\n",
            "  File \"/usr/local/lib/python3.11/dist-packages/flwr/server/compat/app.py\", line 87, in start_driver\n",
            "    hist = run_fl(\n",
            "           ^^^^^^^\n",
            "  File \"/usr/local/lib/python3.11/dist-packages/flwr/server/server.py\", line 492, in run_fl\n",
            "    hist, elapsed_time = server.fit(\n",
            "                         ^^^^^^^^^^^\n",
            "  File \"/usr/local/lib/python3.11/dist-packages/flwr/server/server.py\", line 93, in fit\n",
            "    self.parameters = self._get_initial_parameters(server_round=0, timeout=timeout)\n",
            "                      ^^^^^^^^^^^^^^^^^^^^^^^^^^^^^^^^^^^^^^^^^^^^^^^^^^^^^^^^^^^^^\n",
            "  File \"/usr/local/lib/python3.11/dist-packages/flwr/server/server.py\", line 284, in _get_initial_parameters\n",
            "    get_parameters_res = random_client.get_parameters(\n",
            "                         ^^^^^^^^^^^^^^^^^^^^^^^^^^^^^\n",
            "  File \"/usr/local/lib/python3.11/dist-packages/flwr/server/compat/driver_client_proxy.py\", line 63, in get_parameters\n",
            "    in_recordset = self._send_receive_recordset(\n",
            "                   ^^^^^^^^^^^^^^^^^^^^^^^^^^^^^\n",
            "  File \"/usr/local/lib/python3.11/dist-packages/flwr/server/compat/driver_client_proxy.py\", line 131, in _send_receive_recordset\n",
            "    raise ValueError(\n",
            "ValueError: Message contains an Error (reason: Error: Message Unavailable - The requested message could not be found in the database. It may have expired due to its TTL or never existed.). It originated during client-side execution of a message.\n",
            "\u001b[92mINFO \u001b[0m:      aggregate_fit: received 10 results and 0 failures\n",
            "\u001b[92mINFO \u001b[0m:      fit progress: (39, 0.0008705602958798409, {'MAE': 0.021691855043172836, 'MAPE': 23.11355173587799}, 1021.9082570720002)\n",
            "\u001b[92mINFO \u001b[0m:      configure_evaluate: strategy sampled 5 clients (out of 10)\n"
          ]
        },
        {
          "output_type": "stream",
          "name": "stdout",
          "text": [
            "Round 39 - MSE: 0.0009, MAE: 0.0217, MAPE: 23.11%\n"
          ]
        },
        {
          "output_type": "stream",
          "name": "stderr",
          "text": [
            "\u001b[92mINFO \u001b[0m:      aggregate_evaluate: received 5 results and 0 failures\n",
            "\u001b[92mINFO \u001b[0m:      \n",
            "\u001b[92mINFO \u001b[0m:      [ROUND 40]\n",
            "\u001b[92mINFO \u001b[0m:      configure_fit: strategy sampled 10 clients (out of 10)\n",
            "\u001b[92mINFO \u001b[0m:      aggregate_fit: received 10 results and 0 failures\n",
            "\u001b[92mINFO \u001b[0m:      fit progress: (40, 0.0010043217334896326, {'MAE': 0.024099139496684074, 'MAPE': 23.267415165901184}, 1049.0529787570003)\n",
            "\u001b[92mINFO \u001b[0m:      configure_evaluate: strategy sampled 5 clients (out of 10)\n"
          ]
        },
        {
          "output_type": "stream",
          "name": "stdout",
          "text": [
            "Round 40 - MSE: 0.0010, MAE: 0.0241, MAPE: 23.27%\n"
          ]
        },
        {
          "output_type": "stream",
          "name": "stderr",
          "text": [
            "\u001b[92mINFO \u001b[0m:      aggregate_evaluate: received 5 results and 0 failures\n",
            "\u001b[92mINFO \u001b[0m:      \n",
            "\u001b[92mINFO \u001b[0m:      [ROUND 41]\n",
            "\u001b[92mINFO \u001b[0m:      configure_fit: strategy sampled 10 clients (out of 10)\n",
            "\u001b[92mINFO \u001b[0m:      aggregate_fit: received 10 results and 0 failures\n",
            "\u001b[92mINFO \u001b[0m:      fit progress: (41, 0.0007748305215500295, {'MAE': 0.019515573978424072, 'MAPE': 19.630494713783264}, 1075.1036575910002)\n",
            "\u001b[92mINFO \u001b[0m:      configure_evaluate: strategy sampled 5 clients (out of 10)\n"
          ]
        },
        {
          "output_type": "stream",
          "name": "stdout",
          "text": [
            "Round 41 - MSE: 0.0008, MAE: 0.0195, MAPE: 19.63%\n"
          ]
        },
        {
          "output_type": "stream",
          "name": "stderr",
          "text": [
            "\u001b[92mINFO \u001b[0m:      aggregate_evaluate: received 5 results and 0 failures\n",
            "\u001b[92mINFO \u001b[0m:      \n",
            "\u001b[92mINFO \u001b[0m:      [ROUND 42]\n",
            "\u001b[92mINFO \u001b[0m:      configure_fit: strategy sampled 10 clients (out of 10)\n",
            "\u001b[92mINFO \u001b[0m:      aggregate_fit: received 10 results and 0 failures\n",
            "\u001b[92mINFO \u001b[0m:      fit progress: (42, 0.0007955479668453336, {'MAE': 0.020381895825266838, 'MAPE': 19.877468049526215}, 1101.496108374)\n",
            "\u001b[92mINFO \u001b[0m:      configure_evaluate: strategy sampled 5 clients (out of 10)\n"
          ]
        },
        {
          "output_type": "stream",
          "name": "stdout",
          "text": [
            "Round 42 - MSE: 0.0008, MAE: 0.0204, MAPE: 19.88%\n"
          ]
        },
        {
          "output_type": "stream",
          "name": "stderr",
          "text": [
            "\u001b[92mINFO \u001b[0m:      aggregate_evaluate: received 5 results and 0 failures\n",
            "\u001b[92mINFO \u001b[0m:      \n",
            "\u001b[92mINFO \u001b[0m:      [ROUND 43]\n",
            "\u001b[92mINFO \u001b[0m:      configure_fit: strategy sampled 10 clients (out of 10)\n",
            "\u001b[92mINFO \u001b[0m:      aggregate_fit: received 10 results and 0 failures\n",
            "\u001b[92mINFO \u001b[0m:      fit progress: (43, 0.0007596397772431374, {'MAE': 0.019217822700738907, 'MAPE': 19.02545392513275}, 1127.7749984000002)\n",
            "\u001b[92mINFO \u001b[0m:      configure_evaluate: strategy sampled 5 clients (out of 10)\n"
          ]
        },
        {
          "output_type": "stream",
          "name": "stdout",
          "text": [
            "Round 43 - MSE: 0.0008, MAE: 0.0192, MAPE: 19.03%\n"
          ]
        },
        {
          "output_type": "stream",
          "name": "stderr",
          "text": [
            "\u001b[92mINFO \u001b[0m:      aggregate_evaluate: received 5 results and 0 failures\n",
            "\u001b[92mINFO \u001b[0m:      \n",
            "\u001b[92mINFO \u001b[0m:      [ROUND 44]\n",
            "\u001b[92mINFO \u001b[0m:      configure_fit: strategy sampled 10 clients (out of 10)\n",
            "\u001b[92mINFO \u001b[0m:      aggregate_fit: received 10 results and 0 failures\n",
            "\u001b[92mINFO \u001b[0m:      fit progress: (44, 0.0007406403892673552, {'MAE': 0.018794337287545204, 'MAPE': 16.407157480716705}, 1154.0619567140002)\n",
            "\u001b[92mINFO \u001b[0m:      configure_evaluate: strategy sampled 5 clients (out of 10)\n"
          ]
        },
        {
          "output_type": "stream",
          "name": "stdout",
          "text": [
            "Round 44 - MSE: 0.0007, MAE: 0.0188, MAPE: 16.41%\n"
          ]
        },
        {
          "output_type": "stream",
          "name": "stderr",
          "text": [
            "\u001b[92mINFO \u001b[0m:      aggregate_evaluate: received 5 results and 0 failures\n",
            "\u001b[92mINFO \u001b[0m:      \n",
            "\u001b[92mINFO \u001b[0m:      [ROUND 45]\n",
            "\u001b[92mINFO \u001b[0m:      configure_fit: strategy sampled 10 clients (out of 10)\n",
            "\u001b[92mINFO \u001b[0m:      aggregate_fit: received 10 results and 0 failures\n",
            "\u001b[92mINFO \u001b[0m:      fit progress: (45, 0.0007877856260165572, {'MAE': 0.02014186792075634, 'MAPE': 18.025919795036316}, 1180.4331683950004)\n",
            "\u001b[92mINFO \u001b[0m:      configure_evaluate: strategy sampled 5 clients (out of 10)\n"
          ]
        },
        {
          "output_type": "stream",
          "name": "stdout",
          "text": [
            "Round 45 - MSE: 0.0008, MAE: 0.0201, MAPE: 18.03%\n"
          ]
        },
        {
          "output_type": "stream",
          "name": "stderr",
          "text": [
            "\u001b[92mINFO \u001b[0m:      aggregate_evaluate: received 5 results and 0 failures\n",
            "\u001b[92mINFO \u001b[0m:      \n",
            "\u001b[92mINFO \u001b[0m:      [ROUND 46]\n",
            "\u001b[92mINFO \u001b[0m:      configure_fit: strategy sampled 10 clients (out of 10)\n",
            "\u001b[92mINFO \u001b[0m:      aggregate_fit: received 10 results and 0 failures\n",
            "\u001b[92mINFO \u001b[0m:      fit progress: (46, 0.0007172295590862632, {'MAE': 0.018877653405070305, 'MAPE': 18.81147474050522}, 1206.6601457719999)\n",
            "\u001b[92mINFO \u001b[0m:      configure_evaluate: strategy sampled 5 clients (out of 10)\n"
          ]
        },
        {
          "output_type": "stream",
          "name": "stdout",
          "text": [
            "Round 46 - MSE: 0.0007, MAE: 0.0189, MAPE: 18.81%\n"
          ]
        },
        {
          "output_type": "stream",
          "name": "stderr",
          "text": [
            "\u001b[92mINFO \u001b[0m:      aggregate_evaluate: received 5 results and 0 failures\n",
            "\u001b[92mINFO \u001b[0m:      \n",
            "\u001b[92mINFO \u001b[0m:      [ROUND 47]\n",
            "\u001b[92mINFO \u001b[0m:      configure_fit: strategy sampled 10 clients (out of 10)\n",
            "\u001b[92mINFO \u001b[0m:      aggregate_fit: received 10 results and 0 failures\n",
            "\u001b[92mINFO \u001b[0m:      fit progress: (47, 0.0007848900277167559, {'MAE': 0.020467963069677353, 'MAPE': 20.602695643901825}, 1232.8584487099997)\n",
            "\u001b[92mINFO \u001b[0m:      configure_evaluate: strategy sampled 5 clients (out of 10)\n"
          ]
        },
        {
          "output_type": "stream",
          "name": "stdout",
          "text": [
            "Round 47 - MSE: 0.0008, MAE: 0.0205, MAPE: 20.60%\n"
          ]
        },
        {
          "output_type": "stream",
          "name": "stderr",
          "text": [
            "\u001b[92mINFO \u001b[0m:      aggregate_evaluate: received 5 results and 0 failures\n",
            "\u001b[92mINFO \u001b[0m:      \n",
            "\u001b[92mINFO \u001b[0m:      [ROUND 48]\n",
            "\u001b[92mINFO \u001b[0m:      configure_fit: strategy sampled 10 clients (out of 10)\n",
            "\u001b[92mINFO \u001b[0m:      aggregate_fit: received 10 results and 0 failures\n",
            "\u001b[92mINFO \u001b[0m:      fit progress: (48, 0.000693777808919549, {'MAE': 0.018468590453267097, 'MAPE': 22.017280757427216}, 1259.0339248460004)\n",
            "\u001b[92mINFO \u001b[0m:      configure_evaluate: strategy sampled 5 clients (out of 10)\n"
          ]
        },
        {
          "output_type": "stream",
          "name": "stdout",
          "text": [
            "Round 48 - MSE: 0.0007, MAE: 0.0185, MAPE: 22.02%\n"
          ]
        },
        {
          "output_type": "stream",
          "name": "stderr",
          "text": [
            "\u001b[92mINFO \u001b[0m:      aggregate_evaluate: received 5 results and 0 failures\n",
            "\u001b[92mINFO \u001b[0m:      \n",
            "\u001b[92mINFO \u001b[0m:      [ROUND 49]\n",
            "\u001b[92mINFO \u001b[0m:      configure_fit: strategy sampled 10 clients (out of 10)\n",
            "\u001b[92mINFO \u001b[0m:      aggregate_fit: received 10 results and 0 failures\n",
            "\u001b[92mINFO \u001b[0m:      fit progress: (49, 0.0007351883687078953, {'MAE': 0.018832368776202202, 'MAPE': 19.81159597635269}, 1286.7476662640001)\n",
            "\u001b[92mINFO \u001b[0m:      configure_evaluate: strategy sampled 5 clients (out of 10)\n"
          ]
        },
        {
          "output_type": "stream",
          "name": "stdout",
          "text": [
            "Round 49 - MSE: 0.0007, MAE: 0.0188, MAPE: 19.81%\n"
          ]
        },
        {
          "output_type": "stream",
          "name": "stderr",
          "text": [
            "\u001b[92mINFO \u001b[0m:      aggregate_evaluate: received 5 results and 0 failures\n",
            "\u001b[92mINFO \u001b[0m:      \n",
            "\u001b[92mINFO \u001b[0m:      [ROUND 50]\n",
            "\u001b[92mINFO \u001b[0m:      configure_fit: strategy sampled 10 clients (out of 10)\n",
            "\u001b[92mINFO \u001b[0m:      aggregate_fit: received 10 results and 0 failures\n",
            "\u001b[92mINFO \u001b[0m:      fit progress: (50, 0.000703586672898382, {'MAE': 0.018458940088748932, 'MAPE': 18.039540946483612}, 1313.240080179)\n",
            "\u001b[92mINFO \u001b[0m:      configure_evaluate: strategy sampled 5 clients (out of 10)\n"
          ]
        },
        {
          "output_type": "stream",
          "name": "stdout",
          "text": [
            "Round 50 - MSE: 0.0007, MAE: 0.0185, MAPE: 18.04%\n"
          ]
        },
        {
          "output_type": "stream",
          "name": "stderr",
          "text": [
            "\u001b[92mINFO \u001b[0m:      aggregate_evaluate: received 5 results and 0 failures\n",
            "\u001b[92mINFO \u001b[0m:      \n",
            "\u001b[92mINFO \u001b[0m:      [SUMMARY]\n",
            "\u001b[92mINFO \u001b[0m:      Run finished 50 round(s) in 1313.55s\n",
            "\u001b[92mINFO \u001b[0m:      \tHistory (loss, distributed):\n",
            "\u001b[92mINFO \u001b[0m:      \t\tround 1: 0.008073824553055687\n",
            "\u001b[92mINFO \u001b[0m:      \t\tround 2: 0.00021433106279146436\n",
            "\u001b[92mINFO \u001b[0m:      \t\tround 3: 0.00016608453747865402\n",
            "\u001b[92mINFO \u001b[0m:      \t\tround 4: 0.00011965454147506587\n",
            "\u001b[92mINFO \u001b[0m:      \t\tround 5: 8.74840356692971e-05\n",
            "\u001b[92mINFO \u001b[0m:      \t\tround 6: 9.114183312977758e-05\n",
            "\u001b[92mINFO \u001b[0m:      \t\tround 7: 7.552059895984488e-05\n",
            "\u001b[92mINFO \u001b[0m:      \t\tround 8: 7.095841430253054e-05\n",
            "\u001b[92mINFO \u001b[0m:      \t\tround 9: 7.249831815103167e-05\n",
            "\u001b[92mINFO \u001b[0m:      \t\tround 10: 6.0364367252283475e-05\n",
            "\u001b[92mINFO \u001b[0m:      \t\tround 11: 5.742833860835744e-05\n",
            "\u001b[92mINFO \u001b[0m:      \t\tround 12: 5.4396267288464744e-05\n",
            "\u001b[92mINFO \u001b[0m:      \t\tround 13: 5.1782954729309214e-05\n",
            "\u001b[92mINFO \u001b[0m:      \t\tround 14: 5.163860553875565e-05\n",
            "\u001b[92mINFO \u001b[0m:      \t\tround 15: 4.441307287195419e-05\n",
            "\u001b[92mINFO \u001b[0m:      \t\tround 16: 4.961599510065035e-05\n",
            "\u001b[92mINFO \u001b[0m:      \t\tround 17: 4.412384989279272e-05\n",
            "\u001b[92mINFO \u001b[0m:      \t\tround 18: 4.972129937653479e-05\n",
            "\u001b[92mINFO \u001b[0m:      \t\tround 19: 4.80669705886897e-05\n",
            "\u001b[92mINFO \u001b[0m:      \t\tround 20: 4.075004658844459e-05\n",
            "\u001b[92mINFO \u001b[0m:      \t\tround 21: 4.09842906563078e-05\n",
            "\u001b[92mINFO \u001b[0m:      \t\tround 22: 3.530731283765483e-05\n",
            "\u001b[92mINFO \u001b[0m:      \t\tround 23: 3.9590746441397217e-05\n",
            "\u001b[92mINFO \u001b[0m:      \t\tround 24: 3.4689893619915146e-05\n",
            "\u001b[92mINFO \u001b[0m:      \t\tround 25: 3.190261127125928e-05\n",
            "\u001b[92mINFO \u001b[0m:      \t\tround 26: 3.651496253319477e-05\n",
            "\u001b[92mINFO \u001b[0m:      \t\tround 27: 2.9105044107756134e-05\n",
            "\u001b[92mINFO \u001b[0m:      \t\tround 28: 3.0014800324447845e-05\n",
            "\u001b[92mINFO \u001b[0m:      \t\tround 29: 3.089811899209101e-05\n",
            "\u001b[92mINFO \u001b[0m:      \t\tround 30: 3.395387384501335e-05\n",
            "\u001b[92mINFO \u001b[0m:      \t\tround 31: 3.406503830528455e-05\n",
            "\u001b[92mINFO \u001b[0m:      \t\tround 32: 3.486004019310966e-05\n",
            "\u001b[92mINFO \u001b[0m:      \t\tround 33: 2.895703944867771e-05\n",
            "\u001b[92mINFO \u001b[0m:      \t\tround 34: 3.004742910668842e-05\n",
            "\u001b[92mINFO \u001b[0m:      \t\tround 35: 2.8266398579274356e-05\n",
            "\u001b[92mINFO \u001b[0m:      \t\tround 36: 3.161609041870702e-05\n",
            "\u001b[92mINFO \u001b[0m:      \t\tround 37: 2.9270114870170277e-05\n",
            "\u001b[92mINFO \u001b[0m:      \t\tround 38: 2.8634987409293656e-05\n",
            "\u001b[92mINFO \u001b[0m:      \t\tround 39: 2.9043300469454967e-05\n",
            "\u001b[92mINFO \u001b[0m:      \t\tround 40: 3.2094432078670126e-05\n",
            "\u001b[92mINFO \u001b[0m:      \t\tround 41: 2.537669064967256e-05\n",
            "\u001b[92mINFO \u001b[0m:      \t\tround 42: 2.3627467427972392e-05\n",
            "\u001b[92mINFO \u001b[0m:      \t\tround 43: 2.441594564794325e-05\n",
            "\u001b[92mINFO \u001b[0m:      \t\tround 44: 2.5780858288175968e-05\n",
            "\u001b[92mINFO \u001b[0m:      \t\tround 45: 2.3295584171520252e-05\n",
            "\u001b[92mINFO \u001b[0m:      \t\tround 46: 2.5180322890718106e-05\n",
            "\u001b[92mINFO \u001b[0m:      \t\tround 47: 2.268535143842823e-05\n",
            "\u001b[92mINFO \u001b[0m:      \t\tround 48: 2.114318444785711e-05\n",
            "\u001b[92mINFO \u001b[0m:      \t\tround 49: 2.225658956817106e-05\n",
            "\u001b[92mINFO \u001b[0m:      \t\tround 50: 2.372349905911216e-05\n",
            "\u001b[92mINFO \u001b[0m:      \tHistory (loss, centralized):\n",
            "\u001b[92mINFO \u001b[0m:      \t\tround 0: 1.0158711671829224\n",
            "\u001b[92mINFO \u001b[0m:      \t\tround 1: 0.29173532128334045\n",
            "\u001b[92mINFO \u001b[0m:      \t\tround 2: 0.006222297437489033\n",
            "\u001b[92mINFO \u001b[0m:      \t\tround 3: 0.005023036617785692\n",
            "\u001b[92mINFO \u001b[0m:      \t\tround 4: 0.003439948195591569\n",
            "\u001b[92mINFO \u001b[0m:      \t\tround 5: 0.0028110183775424957\n",
            "\u001b[92mINFO \u001b[0m:      \t\tround 6: 0.002573555801063776\n",
            "\u001b[92mINFO \u001b[0m:      \t\tround 7: 0.0022743246518075466\n",
            "\u001b[92mINFO \u001b[0m:      \t\tround 8: 0.002065656939521432\n",
            "\u001b[92mINFO \u001b[0m:      \t\tround 9: 0.002137155970558524\n",
            "\u001b[92mINFO \u001b[0m:      \t\tround 10: 0.0020539341494441032\n",
            "\u001b[92mINFO \u001b[0m:      \t\tround 11: 0.0016952980076894164\n",
            "\u001b[92mINFO \u001b[0m:      \t\tround 12: 0.0015745173441246152\n",
            "\u001b[92mINFO \u001b[0m:      \t\tround 13: 0.001604050281457603\n",
            "\u001b[92mINFO \u001b[0m:      \t\tround 14: 0.001534105627797544\n",
            "\u001b[92mINFO \u001b[0m:      \t\tround 15: 0.0014019946102052927\n",
            "\u001b[92mINFO \u001b[0m:      \t\tround 16: 0.001483134226873517\n",
            "\u001b[92mINFO \u001b[0m:      \t\tround 17: 0.0014474353520199656\n",
            "\u001b[92mINFO \u001b[0m:      \t\tround 18: 0.0015457149129360914\n",
            "\u001b[92mINFO \u001b[0m:      \t\tround 19: 0.0013248176546767354\n",
            "\u001b[92mINFO \u001b[0m:      \t\tround 20: 0.001212951261550188\n",
            "\u001b[92mINFO \u001b[0m:      \t\tround 21: 0.0013139485381543636\n",
            "\u001b[92mINFO \u001b[0m:      \t\tround 22: 0.0011428779689595103\n",
            "\u001b[92mINFO \u001b[0m:      \t\tround 23: 0.0010902571957558393\n",
            "\u001b[92mINFO \u001b[0m:      \t\tround 24: 0.0010598482331261039\n",
            "\u001b[92mINFO \u001b[0m:      \t\tround 25: 0.0010360797168686986\n",
            "\u001b[92mINFO \u001b[0m:      \t\tround 26: 0.0010933579178526998\n",
            "\u001b[92mINFO \u001b[0m:      \t\tround 27: 0.0010353750549256802\n",
            "\u001b[92mINFO \u001b[0m:      \t\tround 28: 0.0010006221709772944\n",
            "\u001b[92mINFO \u001b[0m:      \t\tround 29: 0.001030888524837792\n",
            "\u001b[92mINFO \u001b[0m:      \t\tround 30: 0.0010770995868369937\n",
            "\u001b[92mINFO \u001b[0m:      \t\tround 31: 0.0010706429602578282\n",
            "\u001b[92mINFO \u001b[0m:      \t\tround 32: 0.0010656802915036678\n",
            "\u001b[92mINFO \u001b[0m:      \t\tround 33: 0.0008788779377937317\n",
            "\u001b[92mINFO \u001b[0m:      \t\tround 34: 0.0008579894783906639\n",
            "\u001b[92mINFO \u001b[0m:      \t\tround 35: 0.0008509168401360512\n",
            "\u001b[92mINFO \u001b[0m:      \t\tround 36: 0.0008925973670557141\n",
            "\u001b[92mINFO \u001b[0m:      \t\tround 37: 0.0008365436806343496\n",
            "\u001b[92mINFO \u001b[0m:      \t\tround 38: 0.0009600899647921324\n",
            "\u001b[92mINFO \u001b[0m:      \t\tround 39: 0.0008705602958798409\n",
            "\u001b[92mINFO \u001b[0m:      \t\tround 40: 0.0010043217334896326\n",
            "\u001b[92mINFO \u001b[0m:      \t\tround 41: 0.0007748305215500295\n",
            "\u001b[92mINFO \u001b[0m:      \t\tround 42: 0.0007955479668453336\n",
            "\u001b[92mINFO \u001b[0m:      \t\tround 43: 0.0007596397772431374\n",
            "\u001b[92mINFO \u001b[0m:      \t\tround 44: 0.0007406403892673552\n",
            "\u001b[92mINFO \u001b[0m:      \t\tround 45: 0.0007877856260165572\n",
            "\u001b[92mINFO \u001b[0m:      \t\tround 46: 0.0007172295590862632\n",
            "\u001b[92mINFO \u001b[0m:      \t\tround 47: 0.0007848900277167559\n",
            "\u001b[92mINFO \u001b[0m:      \t\tround 48: 0.000693777808919549\n",
            "\u001b[92mINFO \u001b[0m:      \t\tround 49: 0.0007351883687078953\n",
            "\u001b[92mINFO \u001b[0m:      \t\tround 50: 0.000703586672898382\n",
            "\u001b[92mINFO \u001b[0m:      \tHistory (metrics, distributed, evaluate):\n",
            "\u001b[92mINFO \u001b[0m:      \t{'accuracy': [(1, 0.2530351947796972),\n",
            "\u001b[92mINFO \u001b[0m:      \t              (2, 0.0067052849090511076),\n",
            "\u001b[92mINFO \u001b[0m:      \t              (3, 0.0052593436868240435),\n",
            "\u001b[92mINFO \u001b[0m:      \t              (4, 0.003751023461302937),\n",
            "\u001b[92mINFO \u001b[0m:      \t              (5, 0.0027410762727652725),\n",
            "\u001b[92mINFO \u001b[0m:      \t              (6, 0.0028533656203714934),\n",
            "\u001b[92mINFO \u001b[0m:      \t              (7, 0.002365928176962035),\n",
            "\u001b[92mINFO \u001b[0m:      \t              (8, 0.002222590284777413),\n",
            "\u001b[92mINFO \u001b[0m:      \t              (9, 0.0022957800747826695),\n",
            "\u001b[92mINFO \u001b[0m:      \t              (10, 0.0018948731146673182),\n",
            "\u001b[92mINFO \u001b[0m:      \t              (11, 0.001798179280166024),\n",
            "\u001b[92mINFO \u001b[0m:      \t              (12, 0.0017062454188769486),\n",
            "\u001b[92mINFO \u001b[0m:      \t              (13, 0.001639793566428125),\n",
            "\u001b[92mINFO \u001b[0m:      \t              (14, 0.0016352225087272623),\n",
            "\u001b[92mINFO \u001b[0m:      \t              (15, 0.0013934676291300046),\n",
            "\u001b[92mINFO \u001b[0m:      \t              (16, 0.001571173178187261),\n",
            "\u001b[92mINFO \u001b[0m:      \t              (17, 0.0013972552466051031),\n",
            "\u001b[92mINFO \u001b[0m:      \t              (18, 0.0015745078135902682),\n",
            "\u001b[92mINFO \u001b[0m:      \t              (19, 0.0015043476650086966),\n",
            "\u001b[92mINFO \u001b[0m:      \t              (20, 0.0012781419063685462),\n",
            "\u001b[92mINFO \u001b[0m:      \t              (21, 0.0012843955371767822),\n",
            "\u001b[92mINFO \u001b[0m:      \t              (22, 0.001118064906525736),\n",
            "\u001b[92mINFO \u001b[0m:      \t              (23, 0.0012389267434819455),\n",
            "\u001b[92mINFO \u001b[0m:      \t              (24, 0.0010882027722561218),\n",
            "\u001b[92mINFO \u001b[0m:      \t              (25, 0.0010001061748066843),\n",
            "\u001b[92mINFO \u001b[0m:      \t              (26, 0.001156307146884501),\n",
            "\u001b[92mINFO \u001b[0m:      \t              (27, 0.0009120803168977881),\n",
            "\u001b[92mINFO \u001b[0m:      \t              (28, 0.0009504686769408484),\n",
            "\u001b[92mINFO \u001b[0m:      \t              (29, 0.0009784404347495486),\n",
            "\u001b[92mINFO \u001b[0m:      \t              (30, 0.0010752060050920893),\n",
            "\u001b[92mINFO \u001b[0m:      \t              (31, 0.001067179484954594),\n",
            "\u001b[92mINFO \u001b[0m:      \t              (32, 0.0010928118794445733),\n",
            "\u001b[92mINFO \u001b[0m:      \t              (33, 0.0009169729158747941),\n",
            "\u001b[92mINFO \u001b[0m:      \t              (34, 0.0009515019217118),\n",
            "\u001b[92mINFO \u001b[0m:      \t              (35, 0.0008951026216770212),\n",
            "\u001b[92mINFO \u001b[0m:      \t              (36, 0.0009910752759376344),\n",
            "\u001b[92mINFO \u001b[0m:      \t              (37, 0.0009175972790169334),\n",
            "\u001b[92mINFO \u001b[0m:      \t              (38, 0.0008976518663410772),\n",
            "\u001b[92mINFO \u001b[0m:      \t              (39, 0.000919704514866074),\n",
            "\u001b[92mINFO \u001b[0m:      \t              (40, 0.0010046879826021676),\n",
            "\u001b[92mINFO \u001b[0m:      \t              (41, 0.0008035952039062977),\n",
            "\u001b[92mINFO \u001b[0m:      \t              (42, 0.0007395415622771619),\n",
            "\u001b[92mINFO \u001b[0m:      \t              (43, 0.0007654256375022477),\n",
            "\u001b[92mINFO \u001b[0m:      \t              (44, 0.0008163938457922389),\n",
            "\u001b[92mINFO \u001b[0m:      \t              (45, 0.000737693498764808),\n",
            "\u001b[92mINFO \u001b[0m:      \t              (46, 0.000788379554508442),\n",
            "\u001b[92mINFO \u001b[0m:      \t              (47, 0.0007183694622168938),\n",
            "\u001b[92mINFO \u001b[0m:      \t              (48, 0.0006695341741821419),\n",
            "\u001b[92mINFO \u001b[0m:      \t              (49, 0.0007047920029920837),\n",
            "\u001b[92mINFO \u001b[0m:      \t              (50, 0.0007439334842370284)]}\n",
            "\u001b[92mINFO \u001b[0m:      \tHistory (metrics, centralized):\n",
            "\u001b[92mINFO \u001b[0m:      \t{'MAE': [(0, 0.8426019549369812),\n",
            "\u001b[92mINFO \u001b[0m:      \t         (1, 0.368645042181015),\n",
            "\u001b[92mINFO \u001b[0m:      \t         (2, 0.056147415190935135),\n",
            "\u001b[92mINFO \u001b[0m:      \t         (3, 0.051949623972177505),\n",
            "\u001b[92mINFO \u001b[0m:      \t         (4, 0.041892386972904205),\n",
            "\u001b[92mINFO \u001b[0m:      \t         (5, 0.03790752589702606),\n",
            "\u001b[92mINFO \u001b[0m:      \t         (6, 0.03633548691868782),\n",
            "\u001b[92mINFO \u001b[0m:      \t         (7, 0.033857252448797226),\n",
            "\u001b[92mINFO \u001b[0m:      \t         (8, 0.032141007483005524),\n",
            "\u001b[92mINFO \u001b[0m:      \t         (9, 0.033105283975601196),\n",
            "\u001b[92mINFO \u001b[0m:      \t         (10, 0.03259109705686569),\n",
            "\u001b[92mINFO \u001b[0m:      \t         (11, 0.029437771067023277),\n",
            "\u001b[92mINFO \u001b[0m:      \t         (12, 0.028059305623173714),\n",
            "\u001b[92mINFO \u001b[0m:      \t         (13, 0.028959112241864204),\n",
            "\u001b[92mINFO \u001b[0m:      \t         (14, 0.02821868471801281),\n",
            "\u001b[92mINFO \u001b[0m:      \t         (15, 0.026323454454541206),\n",
            "\u001b[92mINFO \u001b[0m:      \t         (16, 0.02751566842198372),\n",
            "\u001b[92mINFO \u001b[0m:      \t         (17, 0.027564235031604767),\n",
            "\u001b[92mINFO \u001b[0m:      \t         (18, 0.027977894991636276),\n",
            "\u001b[92mINFO \u001b[0m:      \t         (19, 0.025620225816965103),\n",
            "\u001b[92mINFO \u001b[0m:      \t         (20, 0.02473313733935356),\n",
            "\u001b[92mINFO \u001b[0m:      \t         (21, 0.02541288733482361),\n",
            "\u001b[92mINFO \u001b[0m:      \t         (22, 0.023694345727562904),\n",
            "\u001b[92mINFO \u001b[0m:      \t         (23, 0.023244017735123634),\n",
            "\u001b[92mINFO \u001b[0m:      \t         (24, 0.023000136017799377),\n",
            "\u001b[92mINFO \u001b[0m:      \t         (25, 0.022609058767557144),\n",
            "\u001b[92mINFO \u001b[0m:      \t         (26, 0.023359045386314392),\n",
            "\u001b[92mINFO \u001b[0m:      \t         (27, 0.023012202233076096),\n",
            "\u001b[92mINFO \u001b[0m:      \t         (28, 0.021943463012576103),\n",
            "\u001b[92mINFO \u001b[0m:      \t         (29, 0.022508298978209496),\n",
            "\u001b[92mINFO \u001b[0m:      \t         (30, 0.023128436878323555),\n",
            "\u001b[92mINFO \u001b[0m:      \t         (31, 0.023470154032111168),\n",
            "\u001b[92mINFO \u001b[0m:      \t         (32, 0.024157870560884476),\n",
            "\u001b[92mINFO \u001b[0m:      \t         (33, 0.020678594708442688),\n",
            "\u001b[92mINFO \u001b[0m:      \t         (34, 0.02053152769804001),\n",
            "\u001b[92mINFO \u001b[0m:      \t         (35, 0.020730851218104362),\n",
            "\u001b[92mINFO \u001b[0m:      \t         (36, 0.020613936707377434),\n",
            "\u001b[92mINFO \u001b[0m:      \t         (37, 0.020769290626049042),\n",
            "\u001b[92mINFO \u001b[0m:      \t         (38, 0.022619787603616714),\n",
            "\u001b[92mINFO \u001b[0m:      \t         (39, 0.021691855043172836),\n",
            "\u001b[92mINFO \u001b[0m:      \t         (40, 0.024099139496684074),\n",
            "\u001b[92mINFO \u001b[0m:      \t         (41, 0.019515573978424072),\n",
            "\u001b[92mINFO \u001b[0m:      \t         (42, 0.020381895825266838),\n",
            "\u001b[92mINFO \u001b[0m:      \t         (43, 0.019217822700738907),\n",
            "\u001b[92mINFO \u001b[0m:      \t         (44, 0.018794337287545204),\n",
            "\u001b[92mINFO \u001b[0m:      \t         (45, 0.02014186792075634),\n",
            "\u001b[92mINFO \u001b[0m:      \t         (46, 0.018877653405070305),\n",
            "\u001b[92mINFO \u001b[0m:      \t         (47, 0.020467963069677353),\n",
            "\u001b[92mINFO \u001b[0m:      \t         (48, 0.018468590453267097),\n",
            "\u001b[92mINFO \u001b[0m:      \t         (49, 0.018832368776202202),\n",
            "\u001b[92mINFO \u001b[0m:      \t         (50, 0.018458940088748932)],\n",
            "\u001b[92mINFO \u001b[0m:      \t 'MAPE': [(0, 108.57217311859131),\n",
            "\u001b[92mINFO \u001b[0m:      \t          (1, 111.04252338409424),\n",
            "\u001b[92mINFO \u001b[0m:      \t          (2, 42.26296544075012),\n",
            "\u001b[92mINFO \u001b[0m:      \t          (3, 37.18303143978119),\n",
            "\u001b[92mINFO \u001b[0m:      \t          (4, 34.57566797733307),\n",
            "\u001b[92mINFO \u001b[0m:      \t          (5, 34.119752049446106),\n",
            "\u001b[92mINFO \u001b[0m:      \t          (6, 31.48066997528076),\n",
            "\u001b[92mINFO \u001b[0m:      \t          (7, 30.750536918640137),\n",
            "\u001b[92mINFO \u001b[0m:      \t          (8, 32.853761315345764),\n",
            "\u001b[92mINFO \u001b[0m:      \t          (9, 32.459208369255066),\n",
            "\u001b[92mINFO \u001b[0m:      \t          (10, 34.74375605583191),\n",
            "\u001b[92mINFO \u001b[0m:      \t          (11, 31.269294023513794),\n",
            "\u001b[92mINFO \u001b[0m:      \t          (12, 32.97399878501892),\n",
            "\u001b[92mINFO \u001b[0m:      \t          (13, 29.02352809906006),\n",
            "\u001b[92mINFO \u001b[0m:      \t          (14, 29.52626645565033),\n",
            "\u001b[92mINFO \u001b[0m:      \t          (15, 28.428876399993896),\n",
            "\u001b[92mINFO \u001b[0m:      \t          (16, 30.55829107761383),\n",
            "\u001b[92mINFO \u001b[0m:      \t          (17, 26.895827054977417),\n",
            "\u001b[92mINFO \u001b[0m:      \t          (18, 25.65838098526001),\n",
            "\u001b[92mINFO \u001b[0m:      \t          (19, 25.405466556549072),\n",
            "\u001b[92mINFO \u001b[0m:      \t          (20, 26.288580894470215),\n",
            "\u001b[92mINFO \u001b[0m:      \t          (21, 23.861750960350037),\n",
            "\u001b[92mINFO \u001b[0m:      \t          (22, 24.498601257801056),\n",
            "\u001b[92mINFO \u001b[0m:      \t          (23, 25.040757656097412),\n",
            "\u001b[92mINFO \u001b[0m:      \t          (24, 25.79139471054077),\n",
            "\u001b[92mINFO \u001b[0m:      \t          (25, 25.463762879371643),\n",
            "\u001b[92mINFO \u001b[0m:      \t          (26, 21.828803420066833),\n",
            "\u001b[92mINFO \u001b[0m:      \t          (27, 24.107670783996582),\n",
            "\u001b[92mINFO \u001b[0m:      \t          (28, 21.37887179851532),\n",
            "\u001b[92mINFO \u001b[0m:      \t          (29, 20.55235505104065),\n",
            "\u001b[92mINFO \u001b[0m:      \t          (30, 20.524077117443085),\n",
            "\u001b[92mINFO \u001b[0m:      \t          (31, 22.711387276649475),\n",
            "\u001b[92mINFO \u001b[0m:      \t          (32, 19.196245074272156),\n",
            "\u001b[92mINFO \u001b[0m:      \t          (33, 22.906997799873352),\n",
            "\u001b[92mINFO \u001b[0m:      \t          (34, 23.049354553222656),\n",
            "\u001b[92mINFO \u001b[0m:      \t          (35, 20.561952888965607),\n",
            "\u001b[92mINFO \u001b[0m:      \t          (36, 20.50258368253708),\n",
            "\u001b[92mINFO \u001b[0m:      \t          (37, 19.22859400510788),\n",
            "\u001b[92mINFO \u001b[0m:      \t          (38, 22.861813008785248),\n",
            "\u001b[92mINFO \u001b[0m:      \t          (39, 23.11355173587799),\n",
            "\u001b[92mINFO \u001b[0m:      \t          (40, 23.267415165901184),\n",
            "\u001b[92mINFO \u001b[0m:      \t          (41, 19.630494713783264),\n",
            "\u001b[92mINFO \u001b[0m:      \t          (42, 19.877468049526215),\n",
            "\u001b[92mINFO \u001b[0m:      \t          (43, 19.02545392513275),\n",
            "\u001b[92mINFO \u001b[0m:      \t          (44, 16.407157480716705),\n",
            "\u001b[92mINFO \u001b[0m:      \t          (45, 18.025919795036316),\n",
            "\u001b[92mINFO \u001b[0m:      \t          (46, 18.81147474050522),\n",
            "\u001b[92mINFO \u001b[0m:      \t          (47, 20.602695643901825),\n",
            "\u001b[92mINFO \u001b[0m:      \t          (48, 22.017280757427216),\n",
            "\u001b[92mINFO \u001b[0m:      \t          (49, 19.81159597635269),\n",
            "\u001b[92mINFO \u001b[0m:      \t          (50, 18.039540946483612)]}\n",
            "\u001b[92mINFO \u001b[0m:      \n",
            "\u001b[36m(pid=14445)\u001b[0m 2025-03-06 17:39:05.411249: E external/local_xla/xla/stream_executor/cuda/cuda_fft.cc:477] Unable to register cuFFT factory: Attempting to register factory for plugin cuFFT when one has already been registered\n",
            "\u001b[36m(pid=14444)\u001b[0m WARNING: All log messages before absl::InitializeLog() is called are written to STDERR\n",
            "\u001b[36m(pid=14444)\u001b[0m E0000 00:00:1741282745.721989   14444 cuda_dnn.cc:8310] Unable to register cuDNN factory: Attempting to register factory for plugin cuDNN when one has already been registered\n",
            "\u001b[36m(pid=14444)\u001b[0m E0000 00:00:1741282745.766372   14444 cuda_blas.cc:1418] Unable to register cuBLAS factory: Attempting to register factory for plugin cuBLAS when one has already been registered\n"
          ]
        }
      ],
      "source": [
        "def server_fn(context: Context) -> ServerAppComponents:\n",
        "    \"\"\"Construct components that set the ServerApp behaviour.\n",
        "\n",
        "    You can use settings in `context.run_config` to parameterize the\n",
        "    construction of all elements (e.g the strategy or the number of rounds)\n",
        "    wrapped in the returned ServerAppComponents object.\n",
        "    \"\"\"\n",
        "\n",
        "    # Create FedAvg strategy\n",
        "    strategy = FedAvg(\n",
        "        fraction_fit=1.0,\n",
        "        fraction_evaluate=0.5,\n",
        "        min_fit_clients=2,\n",
        "        min_evaluate_clients=2,\n",
        "        min_available_clients=2,\n",
        "        evaluate_metrics_aggregation_fn=weighted_average,  # <-- pass the metric aggregation function\n",
        "        evaluate_fn=evaluate  # Função de avaliação no servidor\n",
        "    )\n",
        "\n",
        "    # Configure the server for 5 rounds of training\n",
        "    config = ServerConfig(num_rounds=50)\n",
        "\n",
        "    return ServerAppComponents(strategy=strategy, config=config)\n",
        "\n",
        "\n",
        "# Create a new server instance with the updated FedAvg strategy\n",
        "server = ServerApp(server_fn=server_fn)\n",
        "\n",
        "# Run simulation\n",
        "run_simulation(\n",
        "    server_app=server,\n",
        "    client_app=client,\n",
        "    num_supernodes=NUM_CLIENTS,\n",
        "    backend_config=backend_config,\n",
        ")"
      ]
    }
  ],
  "metadata": {
    "accelerator": "GPU",
    "colab": {
      "gpuType": "T4",
      "provenance": []
    },
    "kernelspec": {
      "display_name": "Python 3",
      "name": "python3"
    },
    "language_info": {
      "name": "python"
    }
  },
  "nbformat": 4,
  "nbformat_minor": 0
}